{
 "cells": [
  {
   "cell_type": "code",
   "execution_count": 1,
   "id": "c46e7763",
   "metadata": {},
   "outputs": [],
   "source": [
    "import pdf"
   ]
  },
  {
   "cell_type": "code",
   "execution_count": 2,
   "id": "09aa301e",
   "metadata": {},
   "outputs": [
    {
     "name": "stdout",
     "output_type": "stream",
     "text": [
      "getTextPDF 입장\n",
      "PDF 1: \n",
      " This is a sample PDF document I am using to demonstrate in the tutorial.\n",
      " \n",
      "\n",
      "getTextPDF 입장\n",
      "PDF 2: \n",
      " This is a sample PDF document\n",
      " \n",
      "password protected.\n",
      " \n",
      "\n"
     ]
    }
   ],
   "source": [
    "pdfFile = 'sample-one-line.pdf'\n",
    "pdfFileEncrypted = 'sample-one-line.protected.pdf'\n",
    "print('PDF 1: \\n',pdf.getTextPDF(pdfFile))\n",
    "print('PDF 2: \\n',pdf.getTextPDF(pdfFileEncrypted,'tuffy'))"
   ]
  },
  {
   "cell_type": "code",
   "execution_count": null,
   "id": "78ee3212",
   "metadata": {},
   "outputs": [],
   "source": []
  }
 ],
 "metadata": {
  "kernelspec": {
   "display_name": "Python 3",
   "language": "python",
   "name": "python3"
  },
  "language_info": {
   "codemirror_mode": {
    "name": "ipython",
    "version": 3
   },
   "file_extension": ".py",
   "mimetype": "text/x-python",
   "name": "python",
   "nbconvert_exporter": "python",
   "pygments_lexer": "ipython3",
   "version": "3.8.8"
  }
 },
 "nbformat": 4,
 "nbformat_minor": 5
}
