{
 "cells": [
  {
   "cell_type": "code",
   "execution_count": 1,
   "id": "12b57d2e",
   "metadata": {},
   "outputs": [],
   "source": [
    "str = 'NLTK Dolly Python'"
   ]
  },
  {
   "cell_type": "code",
   "execution_count": 3,
   "id": "661dfc29",
   "metadata": {},
   "outputs": [
    {
     "name": "stdout",
     "output_type": "stream",
     "text": [
      "NLTK Dolly Python\n"
     ]
    }
   ],
   "source": [
    "print(str)"
   ]
  },
  {
   "cell_type": "code",
   "execution_count": 4,
   "id": "f344b312",
   "metadata": {},
   "outputs": [
    {
     "name": "stdout",
     "output_type": "stream",
     "text": [
      "다음의 인덱스에서 끝나는 부분 문자열 : NLTK\n"
     ]
    }
   ],
   "source": [
    "print('다음의 인덱스에서 끝나는 부분 문자열 :',str[:4])"
   ]
  },
  {
   "cell_type": "code",
   "execution_count": 5,
   "id": "d346d718",
   "metadata": {
    "scrolled": true
   },
   "outputs": [
    {
     "name": "stdout",
     "output_type": "stream",
     "text": [
      "다음의 인덱스에서 시작하는 부분 문자열 : Python\n"
     ]
    }
   ],
   "source": [
    "print('다음의 인덱스에서 시작하는 부분 문자열 :',str[11:])"
   ]
  },
  {
   "cell_type": "code",
   "execution_count": 7,
   "id": "eb53926a",
   "metadata": {},
   "outputs": [
    {
     "name": "stdout",
     "output_type": "stream",
     "text": [
      "부분 문자열 : Dolly\n"
     ]
    }
   ],
   "source": [
    "print('부분 문자열 :',str[5:10])"
   ]
  },
  {
   "cell_type": "code",
   "execution_count": 15,
   "id": "c7345a58",
   "metadata": {},
   "outputs": [
    {
     "name": "stdout",
     "output_type": "stream",
     "text": [
      "부분 문자열 : Dolly \n"
     ]
    }
   ],
   "source": [
    "print('부분 문자열 :',str[5:11])"
   ]
  },
  {
   "cell_type": "code",
   "execution_count": 9,
   "id": "7ffe3076",
   "metadata": {},
   "outputs": [
    {
     "name": "stdout",
     "output_type": "stream",
     "text": [
      "복잡한 방식의 부분 문자열 : Dolly\n"
     ]
    }
   ],
   "source": [
    "print('복잡한 방식의 부분 문자열 :',str[-12:-7])"
   ]
  },
  {
   "cell_type": "code",
   "execution_count": 16,
   "id": "0fdf2d36",
   "metadata": {},
   "outputs": [
    {
     "name": "stdout",
     "output_type": "stream",
     "text": [
      "NLTK를 찾았습니다\n"
     ]
    }
   ],
   "source": [
    "if 'NLTK' in str:\n",
    "    print('NLTK를 찾았습니다')"
   ]
  },
  {
   "cell_type": "code",
   "execution_count": 17,
   "id": "594e2788",
   "metadata": {},
   "outputs": [
    {
     "name": "stdout",
     "output_type": "stream",
     "text": [
      "대체된 문자열 NLTK Dorothy Python\n"
     ]
    }
   ],
   "source": [
    "replaced = str.replace('Dolly','Dorothy')\n",
    "print('대체된 문자열',replaced)"
   ]
  },
  {
   "cell_type": "code",
   "execution_count": 22,
   "id": "0f3c5518",
   "metadata": {},
   "outputs": [
    {
     "name": "stdout",
     "output_type": "stream",
     "text": [
      "각 문자(character) 액세스 :\n",
      "N\n",
      "L\n",
      "T\n",
      "K\n",
      " \n",
      "D\n",
      "o\n",
      "r\n",
      "o\n",
      "t\n",
      "h\n",
      "y\n",
      " \n",
      "P\n",
      "y\n",
      "t\n",
      "h\n",
      "o\n",
      "n\n"
     ]
    }
   ],
   "source": [
    "print('각 문자(character) 액세스 :')\n",
    "for s in replaced:\n",
    "    print(s)"
   ]
  },
  {
   "cell_type": "code",
   "execution_count": 21,
   "id": "db77d617",
   "metadata": {},
   "outputs": [
    {
     "name": "stdout",
     "output_type": "stream",
     "text": [
      "각 문자(character) 액세스 :\n",
      "N\n",
      "L\n",
      "T\n",
      "K\n",
      " \n",
      "D\n",
      "o\n",
      "l\n",
      "l\n",
      "y\n",
      " \n",
      "P\n",
      "y\n",
      "t\n",
      "h\n",
      "o\n",
      "n\n"
     ]
    }
   ],
   "source": [
    "print('각 문자(character) 액세스 :')\n",
    "for s in str:\n",
    "    print(s)"
   ]
  },
  {
   "cell_type": "code",
   "execution_count": null,
   "id": "48908a7a",
   "metadata": {},
   "outputs": [],
   "source": []
  }
 ],
 "metadata": {
  "kernelspec": {
   "display_name": "Python 3",
   "language": "python",
   "name": "python3"
  },
  "language_info": {
   "codemirror_mode": {
    "name": "ipython",
    "version": 3
   },
   "file_extension": ".py",
   "mimetype": "text/x-python",
   "name": "python",
   "nbconvert_exporter": "python",
   "pygments_lexer": "ipython3",
   "version": "3.8.8"
  }
 },
 "nbformat": 4,
 "nbformat_minor": 5
}
