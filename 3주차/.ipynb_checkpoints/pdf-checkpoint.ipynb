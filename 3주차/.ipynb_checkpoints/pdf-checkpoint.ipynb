{
 "cells": [
  {
   "cell_type": "code",
   "execution_count": 2,
   "id": "06a07e22",
   "metadata": {},
   "outputs": [
    {
     "name": "stdout",
     "output_type": "stream",
     "text": [
      "Requirement already satisfied: PyPDF2 in c:\\users\\ghd92\\anaconda3\\lib\\site-packages (1.26.0)\n",
      "Note: you may need to restart the kernel to use updated packages.\n"
     ]
    }
   ],
   "source": [
    "pip install PyPDF2"
   ]
  },
  {
   "cell_type": "code",
   "execution_count": 4,
   "id": "68c18c9b",
   "metadata": {},
   "outputs": [],
   "source": [
    "from PyPDF2 import PdfFileReader"
   ]
  },
  {
   "cell_type": "code",
   "execution_count": 6,
   "id": "666663f9",
   "metadata": {},
   "outputs": [],
   "source": [
    "def getTextPDF(pdfFileName, password = ''):\n",
    "    pdf_file = open(pdfFileName, 'rb')\n",
    "    print('getTextPDF 입장')\n",
    "    read_pdf = PdfFileReader(pdf_file)\n",
    "    if password !='':\n",
    "        read_pdf.decrypt(password)\n",
    "    text = []\n",
    "    for i in range(0, read_pd.getNumPages()):\n",
    "        text.append(read_pdf.getPage(i).extractText())\n",
    "    return '\\n'.join(text)"
   ]
  },
  {
   "cell_type": "code",
   "execution_count": null,
   "id": "86aff88e",
   "metadata": {},
   "outputs": [],
   "source": []
  }
 ],
 "metadata": {
  "kernelspec": {
   "display_name": "Python 3",
   "language": "python",
   "name": "python3"
  },
  "language_info": {
   "codemirror_mode": {
    "name": "ipython",
    "version": 3
   },
   "file_extension": ".py",
   "mimetype": "text/x-python",
   "name": "python",
   "nbconvert_exporter": "python",
   "pygments_lexer": "ipython3",
   "version": "3.8.8"
  }
 },
 "nbformat": 4,
 "nbformat_minor": 5
}
