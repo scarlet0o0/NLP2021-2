{
 "cells": [
  {
   "cell_type": "code",
   "execution_count": 8,
   "id": "c226671d",
   "metadata": {},
   "outputs": [
    {
     "name": "stdout",
     "output_type": "stream",
     "text": [
      "Requirement already satisfied: beautifulsoup4 in c:\\users\\ghd92\\anaconda3\\lib\\site-packages (4.9.3)\n",
      "Requirement already satisfied: soupsieve>1.2 in c:\\users\\ghd92\\anaconda3\\lib\\site-packages (from beautifulsoup4) (2.2.1)\n"
     ]
    }
   ],
   "source": [
    "!pip3 install beautifulsoup4"
   ]
  },
  {
   "cell_type": "code",
   "execution_count": 1,
   "id": "e5ccd62f",
   "metadata": {},
   "outputs": [],
   "source": [
    "from bs4 import BeautifulSoup"
   ]
  },
  {
   "cell_type": "code",
   "execution_count": 2,
   "id": "83608f14",
   "metadata": {},
   "outputs": [],
   "source": [
    "html_doc = open('sample-html.html','r').read()\n",
    "soup = BeautifulSoup(html_doc, 'html.parser')"
   ]
  },
  {
   "cell_type": "code",
   "execution_count": 3,
   "id": "111ac135",
   "metadata": {},
   "outputs": [
    {
     "name": "stdout",
     "output_type": "stream",
     "text": [
      "\n",
      "\n",
      "Html이 제거된 텍스트 :\n",
      "\n",
      "\n",
      "\n",
      "Sample Web Page\n",
      "\n",
      "\n",
      "\n",
      "Main heading\n",
      "This is a very simple HTML document\n",
      "Improve your image by including an image. \n",
      "\n",
      "Add a link to your favorite Web site.\n",
      " This is a new sentence without a paragraph break, in bold italics.\n",
      "\n",
      "\n"
     ]
    }
   ],
   "source": [
    "print('\\n\\nHtml이 제거된 텍스트 :')\n",
    "print(soup.get_text())"
   ]
  },
  {
   "cell_type": "code",
   "execution_count": 4,
   "id": "999765f5",
   "metadata": {},
   "outputs": [
    {
     "name": "stdout",
     "output_type": "stream",
     "text": [
      "<title> 태그에 엑세스 : <title>Sample Web Page</title>\n"
     ]
    }
   ],
   "source": [
    "print('<title> 태그에 엑세스 :',end=' ')\n",
    "print(soup.title)"
   ]
  },
  {
   "cell_type": "code",
   "execution_count": 5,
   "id": "3d690873",
   "metadata": {},
   "outputs": [
    {
     "name": "stdout",
     "output_type": "stream",
     "text": [
      " <H1> 태그의 텍스트에 액세스 : Main heading\n"
     ]
    }
   ],
   "source": [
    "print(' <H1> 태그의 텍스트에 액세스 :',end=' ')\n",
    "print(soup.h1.string)"
   ]
  },
  {
   "cell_type": "code",
   "execution_count": 6,
   "id": "b6afa014",
   "metadata": {},
   "outputs": [
    {
     "name": "stdout",
     "output_type": "stream",
     "text": [
      "<H1> 태그의 속성에 액세스 : A Great HTML Resource\n"
     ]
    }
   ],
   "source": [
    "print('<H1> 태그의 속성에 액세스 :',end=' ')\n",
    "print(soup.img['alt'])"
   ]
  },
  {
   "cell_type": "code",
   "execution_count": 7,
   "id": "1881c51e",
   "metadata": {},
   "outputs": [
    {
     "name": "stdout",
     "output_type": "stream",
     "text": [
      "\n",
      " 존재하는 모든 <p> 태그에 액세스 :\n",
      "This is a very simple HTML document\n",
      "Improve your image by including an image. \n",
      "None\n"
     ]
    }
   ],
   "source": [
    "print('\\n 존재하는 모든 <p> 태그에 액세스 :')\n",
    "for p in soup.find_all('p'):\n",
    "    print(p.string)"
   ]
  },
  {
   "cell_type": "code",
   "execution_count": null,
   "id": "8ea8d194",
   "metadata": {},
   "outputs": [],
   "source": []
  },
  {
   "cell_type": "code",
   "execution_count": null,
   "id": "67e4a38b",
   "metadata": {},
   "outputs": [],
   "source": []
  }
 ],
 "metadata": {
  "kernelspec": {
   "display_name": "Python 3",
   "language": "python",
   "name": "python3"
  },
  "language_info": {
   "codemirror_mode": {
    "name": "ipython",
    "version": 3
   },
   "file_extension": ".py",
   "mimetype": "text/x-python",
   "name": "python",
   "nbconvert_exporter": "python",
   "pygments_lexer": "ipython3",
   "version": "3.8.8"
  }
 },
 "nbformat": 4,
 "nbformat_minor": 5
}
