{
 "cells": [
  {
   "cell_type": "code",
   "execution_count": 1,
   "id": "7e18cd9a",
   "metadata": {},
   "outputs": [],
   "source": [
    "#1.불용어 제거하기"
   ]
  },
  {
   "cell_type": "code",
   "execution_count": 6,
   "id": "17f4b631",
   "metadata": {},
   "outputs": [],
   "source": [
    "import nltk\n",
    "from nltk import word_tokenize"
   ]
  },
  {
   "cell_type": "code",
   "execution_count": 7,
   "id": "df92996e",
   "metadata": {},
   "outputs": [],
   "source": [
    "text = 'Family is not an important thing. It`s everything.'"
   ]
  },
  {
   "cell_type": "code",
   "execution_count": 10,
   "id": "4925ecc1",
   "metadata": {},
   "outputs": [],
   "source": [
    "#(1) 텍스트 토큰화하기\n",
    "word_tokens = word_tokenize(text)"
   ]
  },
  {
   "cell_type": "code",
   "execution_count": 12,
   "id": "dd65a657",
   "metadata": {},
   "outputs": [],
   "source": [
    "#(2) 불용어 불러오기\n",
    "stop_words = nltk.corpus.stopwords.words('english')"
   ]
  },
  {
   "cell_type": "code",
   "execution_count": 13,
   "id": "1fe3ca1d",
   "metadata": {},
   "outputs": [],
   "source": [
    "#(3) 텍스트에서 불용어 제거하기\n",
    "cleaned_words =[w for w in word_tokens if w.lower() not in stop_words]"
   ]
  },
  {
   "cell_type": "code",
   "execution_count": 15,
   "id": "062b4974",
   "metadata": {},
   "outputs": [
    {
     "name": "stdout",
     "output_type": "stream",
     "text": [
      "['Family', 'is', 'not', 'an', 'important', 'thing', '.', 'It', '`', 's', 'everything', '.']\n",
      "['Family', 'important', 'thing', '.', '`', 'everything', '.']\n"
     ]
    }
   ],
   "source": [
    "# 결과 실행\n",
    "print(word_tokens)\n",
    "print(cleaned_words)"
   ]
  },
  {
   "cell_type": "code",
   "execution_count": null,
   "id": "8e1d6191",
   "metadata": {},
   "outputs": [],
   "source": []
  }
 ],
 "metadata": {
  "kernelspec": {
   "display_name": "Python 3",
   "language": "python",
   "name": "python3"
  },
  "language_info": {
   "codemirror_mode": {
    "name": "ipython",
    "version": 3
   },
   "file_extension": ".py",
   "mimetype": "text/x-python",
   "name": "python",
   "nbconvert_exporter": "python",
   "pygments_lexer": "ipython3",
   "version": "3.8.8"
  }
 },
 "nbformat": 4,
 "nbformat_minor": 5
}
