{
 "cells": [
  {
   "cell_type": "code",
   "execution_count": 5,
   "id": "38c4cfd6",
   "metadata": {},
   "outputs": [],
   "source": [
    "import nltk"
   ]
  },
  {
   "cell_type": "code",
   "execution_count": 10,
   "id": "1e04d063",
   "metadata": {},
   "outputs": [],
   "source": [
    "quote=\"\"\"\n",
    "... If you wish to make an apple pie from scratch,\n",
    "... you must first invent the universe.\"\"\""
   ]
  },
  {
   "cell_type": "code",
   "execution_count": 11,
   "id": "2dbbc074",
   "metadata": {},
   "outputs": [],
   "source": [
    "# (!) 텍스트 토큰화하기\n",
    "words_quote = nltk.word_tokenize(quote)"
   ]
  },
  {
   "cell_type": "code",
   "execution_count": 12,
   "id": "3369a5b1",
   "metadata": {},
   "outputs": [],
   "source": [
    "# (2)품사 태깅하기\n",
    "tags = nltk.pos_tag(words_quote)"
   ]
  },
  {
   "cell_type": "code",
   "execution_count": 13,
   "id": "ee20d02b",
   "metadata": {},
   "outputs": [
    {
     "name": "stdout",
     "output_type": "stream",
     "text": [
      "['If', 'you', 'wish', 'to', 'make', 'an', 'apple', 'pie', 'from', 'scratch', ',', 'you', 'must', 'first', 'invent', 'the', 'universe', '.']\n",
      "[('If', 'IN'), ('you', 'PRP'), ('wish', 'VBP'), ('to', 'TO'), ('make', 'VB'), ('an', 'DT'), ('apple', 'NN'), ('pie', 'NN'), ('from', 'IN'), ('scratch', 'NN'), (',', ','), ('you', 'PRP'), ('must', 'MD'), ('first', 'VB'), ('invent', 'VB'), ('the', 'DT'), ('universe', 'NN'), ('.', '.')]\n"
     ]
    }
   ],
   "source": [
    "#결과출력\n",
    "print(words_quote)\n",
    "print(tags)"
   ]
  },
  {
   "cell_type": "code",
   "execution_count": null,
   "id": "da23cc5c",
   "metadata": {},
   "outputs": [],
   "source": []
  }
 ],
 "metadata": {
  "kernelspec": {
   "display_name": "Python 3",
   "language": "python",
   "name": "python3"
  },
  "language_info": {
   "codemirror_mode": {
    "name": "ipython",
    "version": 3
   },
   "file_extension": ".py",
   "mimetype": "text/x-python",
   "name": "python",
   "nbconvert_exporter": "python",
   "pygments_lexer": "ipython3",
   "version": "3.8.8"
  }
 },
 "nbformat": 4,
 "nbformat_minor": 5
}
