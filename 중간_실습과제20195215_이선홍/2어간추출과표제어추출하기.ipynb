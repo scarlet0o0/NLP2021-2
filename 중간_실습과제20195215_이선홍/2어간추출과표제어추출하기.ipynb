{
 "cells": [
  {
   "cell_type": "code",
   "execution_count": 13,
   "id": "00f32d94",
   "metadata": {},
   "outputs": [],
   "source": [
    "import nltk\n",
    "from nltk import PorterStemmer, WordNetLemmatizer"
   ]
  },
  {
   "cell_type": "code",
   "execution_count": 1,
   "id": "5805f4df",
   "metadata": {},
   "outputs": [],
   "source": [
    "words = ['policy','doing','organization','have','going','love','lives','fly','dies','watched','has','starting']"
   ]
  },
  {
   "cell_type": "code",
   "execution_count": 10,
   "id": "2905f218",
   "metadata": {},
   "outputs": [],
   "source": [
    "# (!) 어간 추출하기\n",
    "stemmer = PorterStemmer()\n",
    "stems = [stemmer.stem(t) for t in words]"
   ]
  },
  {
   "cell_type": "code",
   "execution_count": 14,
   "id": "607e2983",
   "metadata": {},
   "outputs": [],
   "source": [
    "# (2) 표제어 추출하기 \n",
    "lemmatizer = lemmatizer = WordNetLemmatizer()\n",
    "lemmas = [lemmatizer.lemmatize(t) for t in words]"
   ]
  },
  {
   "cell_type": "code",
   "execution_count": 16,
   "id": "d41df084",
   "metadata": {},
   "outputs": [
    {
     "name": "stdout",
     "output_type": "stream",
     "text": [
      "['polici', 'do', 'organ', 'have', 'go', 'love', 'live', 'fli', 'die', 'watch', 'ha', 'start']\n",
      "['policy', 'doing', 'organization', 'have', 'going', 'love', 'life', 'fly', 'dy', 'watched', 'ha', 'starting']\n"
     ]
    }
   ],
   "source": [
    "#결과 출력\n",
    "print(stems)\n",
    "print(lemmas)"
   ]
  },
  {
   "cell_type": "code",
   "execution_count": null,
   "id": "22781b45",
   "metadata": {},
   "outputs": [],
   "source": []
  }
 ],
 "metadata": {
  "kernelspec": {
   "display_name": "Python 3",
   "language": "python",
   "name": "python3"
  },
  "language_info": {
   "codemirror_mode": {
    "name": "ipython",
    "version": 3
   },
   "file_extension": ".py",
   "mimetype": "text/x-python",
   "name": "python",
   "nbconvert_exporter": "python",
   "pygments_lexer": "ipython3",
   "version": "3.8.8"
  }
 },
 "nbformat": 4,
 "nbformat_minor": 5
}
