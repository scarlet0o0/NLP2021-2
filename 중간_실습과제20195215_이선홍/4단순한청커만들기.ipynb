{
 "cells": [
  {
   "cell_type": "code",
   "execution_count": 44,
   "id": "48e48f22",
   "metadata": {},
   "outputs": [],
   "source": [
    "import nltk"
   ]
  },
  {
   "cell_type": "code",
   "execution_count": 45,
   "id": "8877d626",
   "metadata": {},
   "outputs": [],
   "source": [
    "quote = 'the little yellow dog barked at the cat.'"
   ]
  },
  {
   "cell_type": "code",
   "execution_count": 46,
   "id": "83f2dd93",
   "metadata": {},
   "outputs": [],
   "source": [
    "# (1) 텍스트 토큰화하기\n",
    "words_quote = nltk.word_tokenize(quote)"
   ]
  },
  {
   "cell_type": "code",
   "execution_count": 47,
   "id": "48cc827c",
   "metadata": {},
   "outputs": [
    {
     "name": "stdout",
     "output_type": "stream",
     "text": [
      "[('the', 'DT'), ('little', 'JJ'), ('yellow', 'JJ'), ('dog', 'NN'), ('barked', 'VBD'), ('at', 'IN'), ('the', 'DT'), ('cat', 'NN'), ('.', '.')]\n"
     ]
    }
   ],
   "source": [
    "# (2) 품사 태깅하기\n",
    "pos_tags = nltk.pos_tag(words_quote)\n",
    "print(pos_tags)"
   ]
  },
  {
   "cell_type": "code",
   "execution_count": 319,
   "id": "1c0e238a",
   "metadata": {},
   "outputs": [],
   "source": [
    "# (3) 정규 표현식을 활용한 청크 문법 정의하기\n",
    "# 명사구(NP)는 선택적(?) 한정자(DT)로 시작\n",
    "# 형용사(JJ)는 얼마든지 사용가능(*)\n",
    "# 명사(NN)로 끝남\n",
    "grammar = '\\n'.join([\n",
    "    'NP: {<DT>?<JJ>*<NN>}',\n",
    "])"
   ]
  },
  {
   "cell_type": "code",
   "execution_count": 320,
   "id": "37a40606",
   "metadata": {},
   "outputs": [],
   "source": [
    "# (4) 청크 파서 생성하기\n",
    "chunk_parser = nltk.RegexpParser(grammar)"
   ]
  },
  {
   "cell_type": "code",
   "execution_count": 321,
   "id": "5e47b8c3",
   "metadata": {},
   "outputs": [
    {
     "name": "stdout",
     "output_type": "stream",
     "text": [
      "(S\n",
      "  (NP the/DT little/JJ yellow/JJ dog/NN)\n",
      "  barked/VBD\n",
      "  at/IN\n",
      "  (NP the/DT cat/NN)\n",
      "  ./.)\n"
     ]
    }
   ],
   "source": [
    "# (5) 청크 파싱\n",
    "tree = chunk_parser.parse(pos_tags)\n",
    "print(tree)"
   ]
  },
  {
   "cell_type": "code",
   "execution_count": 322,
   "id": "5adc4671",
   "metadata": {},
   "outputs": [],
   "source": [
    "# (6) 트리 시각화\n",
    "tree.draw()"
   ]
  },
  {
   "cell_type": "code",
   "execution_count": null,
   "id": "8d7d5e17",
   "metadata": {},
   "outputs": [],
   "source": []
  },
  {
   "cell_type": "code",
   "execution_count": null,
   "id": "ff12f9ae",
   "metadata": {},
   "outputs": [],
   "source": []
  },
  {
   "cell_type": "code",
   "execution_count": null,
   "id": "c4e385bc",
   "metadata": {},
   "outputs": [],
   "source": []
  }
 ],
 "metadata": {
  "kernelspec": {
   "display_name": "Python 3",
   "language": "python",
   "name": "python3"
  },
  "language_info": {
   "codemirror_mode": {
    "name": "ipython",
    "version": 3
   },
   "file_extension": ".py",
   "mimetype": "text/x-python",
   "name": "python",
   "nbconvert_exporter": "python",
   "pygments_lexer": "ipython3",
   "version": "3.8.8"
  }
 },
 "nbformat": 4,
 "nbformat_minor": 5
}
