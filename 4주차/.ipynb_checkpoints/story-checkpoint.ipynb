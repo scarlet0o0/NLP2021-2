{
 "cells": [
  {
   "cell_type": "code",
   "execution_count": 1,
   "id": "580fd9c9",
   "metadata": {},
   "outputs": [],
   "source": [
    "story1 = \"ln the big of Maharashtra, Gujarat and Uttar Pradesh, some of the areas worst-affected by the virus, demand for oxygen has more than tripled, doctors and government officials said, prompting urgent calls for help. \\n Desperate patients have been calling me through the western city of Nashik, told Reuters.\\nMeanwhile, a senior minister in Prime Minister Narendra Mod i' s cabinet, Nitin Gadkari, also tested positive for the coronavirus infection, he said in a tweet.\"\n",
    "story2 = \"lndia is in crisis. lts economy has crashed, with the largest slump in record decimating millions of jobs. lts already fragile healthcare system is buckling under the weight of soarjng coronavirus cases. With more than five million cases. lndia ranks only behind the United States for confirmed infections. \\n But whereas other populist leaders are feeling the political heat from their handling of the pandemic -- US President Donald Trump and his British counterpart Boris Johnson, for instance -- lndian Prime Minister Narendra Modi has largely escaped the scathing headlines and crushing opinion polls that have beleaguered his counterparts.\""
   ]
  },
  {
   "cell_type": "code",
   "execution_count": 4,
   "id": "14acccf1",
   "metadata": {},
   "outputs": [],
   "source": [
    "story1 = story1.replace('.',\"\").replace(\"\\n\",\"\").replace('.','').replace('\"\"','').replace(\"!\",\"\").replace(\"?\",\"\").casefold()\n",
    "story2 = story2.replace('.',\"\").replace(\"\\n\",\"\").replace('.','').replace('\"\"','').replace(\"!\",\"\").replace(\"?\",\"\").casefold()"
   ]
  },
  {
   "cell_type": "code",
   "execution_count": 5,
   "id": "e8951cb8",
   "metadata": {},
   "outputs": [],
   "source": [
    "import nltk"
   ]
  },
  {
   "cell_type": "code",
   "execution_count": 9,
   "id": "05a76841",
   "metadata": {
    "scrolled": true
   },
   "outputs": [
    {
     "name": "stdout",
     "output_type": "stream",
     "text": [
      "첫 번째 이야기 단어 : ['ln', 'the', 'big', 'of', 'maharashtra,', 'gujarat', 'and', 'uttar', 'pradesh,', 'some', 'of', 'the', 'areas', 'worst-affected', 'by', 'the', 'virus,', 'demand', 'for', 'oxygen', 'has', 'more', 'than', 'tripled,', 'doctors', 'and', 'government', 'officials', 'said,', 'prompting', 'urgent', 'calls', 'for', 'help', '', 'desperate', 'patients', 'have', 'been', 'calling', 'me', 'through', 'the', 'western', 'city', 'of', 'nashik,', 'told', 'reutersmeanwhile,', 'a', 'senior', 'minister', 'in', 'prime', 'minister', 'narendra', 'mod', \"i'\", 's', 'cabinet,', 'nitin', 'gadkari,', 'also', 'tested', 'positive', 'for', 'the', 'coronavirus', 'infection,', 'he', 'said', 'in', 'a', 'tweet']\n",
      "두 번째 이야기 단어 : ['lndia', 'is', 'in', 'crisis', 'lts', 'economy', 'has', 'crashed,', 'with', 'the', 'largest', 'slump', 'in', 'record', 'decimating', 'millions', 'of', 'jobs', 'lts', 'already', 'fragile', 'healthcare', 'system', 'is', 'buckling', 'under', 'the', 'weight', 'of', 'soarjng', 'coronavirus', 'cases', 'with', 'more', 'than', 'five', 'million', 'cases', 'lndia', 'ranks', 'only', 'behind', 'the', 'united', 'states', 'for', 'confirmed', 'infections', '', 'but', 'whereas', 'other', 'populist', 'leaders', 'are', 'feeling', 'the', 'political', 'heat', 'from', 'their', 'handling', 'of', 'the', 'pandemic', '--', 'us', 'president', 'donald', 'trump', 'and', 'his', 'british', 'counterpart', 'boris', 'johnson,', 'for', 'instance', '--', 'lndian', 'prime', 'minister', 'narendra', 'modi', 'has', 'largely', 'escaped', 'the', 'scathing', 'headlines', 'and', 'crushing', 'opinion', 'polls', 'that', 'have', 'beleaguered', 'his', 'counterparts']\n"
     ]
    }
   ],
   "source": [
    "story1_words = story1.split(\" \")\n",
    "print(\"첫 번째 이야기 단어 :\",story1_words)\n",
    "story2_words = story2.split(\" \")\n",
    "print(\"두 번째 이야기 단어 :\",story2_words)\n"
   ]
  },
  {
   "cell_type": "code",
   "execution_count": 10,
   "id": "9f61ec73",
   "metadata": {},
   "outputs": [
    {
     "name": "stdout",
     "output_type": "stream",
     "text": [
      "첫번째 이야기 어휘 : {'', 'through', 'big', 'has', 'narendra', 'patients', 'western', 'city', 'minister', 'prime', 'also', 'tested', 'prompting', 'calls', 'gadkari,', 'said', 'areas', 'calling', 'by', 'for', 'been', 'a', 'senior', 'desperate', 'and', 'mod', 'than', 'infection,', 'more', 'worst-affected', 'nitin', 'coronavirus', 'the', 'gujarat', 'cabinet,', 'positive', 'nashik,', 'maharashtra,', 'told', 'he', 'pradesh,', 'virus,', 'of', 'government', 'me', 'reutersmeanwhile,', 'tweet', 'help', 's', 'officials', 'have', 'some', 'oxygen', 'demand', 'tripled,', 'said,', 'in', 'ln', 'doctors', 'urgent', \"i'\", 'uttar'}\n",
      "두번째 이야기 어휘 : {'', 'his', 'minister', 'feeling', 'millions', 'us', 'but', '--', 'their', 'heat', 'lndia', 'is', 'president', 'crushing', 'largest', 'instance', 'of', 'crisis', 'other', 'handling', 'crashed,', 'that', 'fragile', 'decimating', 'opinion', 'counterparts', 'soarjng', 'and', 'confirmed', 'the', 'states', 'million', 'scathing', 'united', 'trump', 'lts', 'have', 'behind', 'buckling', 'cases', 'jobs', 'populist', 'for', 'johnson,', 'polls', 'than', 'pandemic', 'whereas', 'weight', 'political', 'largely', 'record', 'escaped', 'economy', 'boris', 'in', 'ranks', 'only', 'from', 'headlines', 'slump', 'narendra', 'has', 'infections', 'prime', 'counterpart', 'beleaguered', 'five', 'more', 'coronavirus', 'with', 'under', 'leaders', 'are', 'lndian', 'modi', 'british', 'already', 'system', 'donald', 'healthcare'}\n"
     ]
    }
   ],
   "source": [
    "story1_vocab = set(story1_words)\n",
    "print(\"첫번째 이야기 어휘 :\",story1_vocab)\n",
    "story2_vocab = set(story2_words)\n",
    "print(\"두번째 이야기 어휘 :\",story2_vocab)"
   ]
  },
  {
   "cell_type": "code",
   "execution_count": 13,
   "id": "120e9b3c",
   "metadata": {},
   "outputs": [
    {
     "name": "stdout",
     "output_type": "stream",
     "text": [
      "공통 어휘 : {'', 'narendra', 'has', 'for', 'have', 'and', 'minister', 'than', 'prime', 'in', 'more', 'coronavirus', 'the', 'of'}\n"
     ]
    }
   ],
   "source": [
    "#두개의 이야기 사이 공통 어휘 찾기\n",
    "common_vocab = story1_vocab & story2_vocab\n",
    "print(\"공통 어휘 :\",common_vocab)"
   ]
  },
  {
   "cell_type": "code",
   "execution_count": null,
   "id": "64412734",
   "metadata": {},
   "outputs": [],
   "source": []
  }
 ],
 "metadata": {
  "kernelspec": {
   "display_name": "Python 3",
   "language": "python",
   "name": "python3"
  },
  "language_info": {
   "codemirror_mode": {
    "name": "ipython",
    "version": 3
   },
   "file_extension": ".py",
   "mimetype": "text/x-python",
   "name": "python",
   "nbconvert_exporter": "python",
   "pygments_lexer": "ipython3",
   "version": "3.8.8"
  }
 },
 "nbformat": 4,
 "nbformat_minor": 5
}
