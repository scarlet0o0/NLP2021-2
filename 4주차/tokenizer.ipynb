{
 "cells": [
  {
   "cell_type": "code",
   "execution_count": 3,
   "id": "c7d91ee6",
   "metadata": {},
   "outputs": [],
   "source": [
    "import nltk"
   ]
  },
  {
   "cell_type": "code",
   "execution_count": 4,
   "id": "30e504e0",
   "metadata": {},
   "outputs": [],
   "source": [
    "from nltk.tokenize import LineTokenizer,SpaceTokenizer,TweetTokenizer\n",
    "#LineTokenizer 별로 자름\n",
    "#SpaceTokenizer 별로 자름 \n",
    "#"
   ]
  },
  {
   "cell_type": "code",
   "execution_count": 5,
   "id": "8c7dcbfe",
   "metadata": {},
   "outputs": [],
   "source": [
    "from nltk import word_tokenize\n",
    "#뭔가 조금 다름 ..?"
   ]
  },
  {
   "cell_type": "code",
   "execution_count": 6,
   "id": "8eaa96db",
   "metadata": {
    "scrolled": true
   },
   "outputs": [
    {
     "name": "stdout",
     "output_type": "stream",
     "text": [
      "Line tokenizer 출력 :  ['My name is Max is Maximus Decimus Meridius, comman der of te Armies of the North , General of the Felix Legions and loyal servant to the true emperor, Marcus Aurelius, ', 'Father to a murdered son, husband to a murderes wife. ', 'And l will have my veneance, in this life or the next.']\n"
     ]
    }
   ],
   "source": [
    "#라인별로 글을 잘라서 배열에 저장\n",
    "lTokenizer = LineTokenizer()\n",
    "print(\"Line tokenizer 출력 : \",lTokenizer.tokenize(\"My name is Max is Maximus Decimus Meridius, comman der of te Armies of the North , General of the Felix Legions and loyal servant to the true emperor, Marcus Aurelius, \\nFather to a murdered son, husband to a murderes wife. \\nAnd l will have my veneance, in this life or the next.\"))"
   ]
  },
  {
   "cell_type": "code",
   "execution_count": 7,
   "id": "fa8d3cee",
   "metadata": {
    "scrolled": true
   },
   "outputs": [
    {
     "name": "stdout",
     "output_type": "stream",
     "text": [
      "Space Tokenizer 출력 :  ['By', '11', \"o'clock\", 'on', 'Sunday,', 'the', 'doctor', 'shall', 'open', 'the', 'dispensary.']\n"
     ]
    }
   ],
   "source": [
    "#스페이스별로 글을 자른다\n",
    "rawText = \"By 11 o'clock on Sunday, the doctor shall open the dispensary.\"\n",
    "sTokenizer = SpaceTokenizer()\n",
    "print(\"Space Tokenizer 출력 : \", sTokenizer.tokenize(rawText))"
   ]
  },
  {
   "cell_type": "code",
   "execution_count": 8,
   "id": "4c480802",
   "metadata": {},
   "outputs": [
    {
     "name": "stderr",
     "output_type": "stream",
     "text": [
      "[nltk_data] Downloading package punkt to\n",
      "[nltk_data]     C:\\Users\\ghd92\\AppData\\Roaming\\nltk_data...\n",
      "[nltk_data]   Package punkt is already up-to-date!\n"
     ]
    },
    {
     "data": {
      "text/plain": [
       "True"
      ]
     },
     "execution_count": 8,
     "metadata": {},
     "output_type": "execute_result"
    }
   ],
   "source": [
    "#워드토큰라이저를 쓸려면 다운받아야 함\n",
    "nltk.download('punkt')"
   ]
  },
  {
   "cell_type": "code",
   "execution_count": 9,
   "id": "3868179e",
   "metadata": {},
   "outputs": [
    {
     "name": "stdout",
     "output_type": "stream",
     "text": [
      "Word Tokenizer 출력 : ['By', '11', \"o'clock\", 'on', 'Sunday', ',', 'the', 'doctor', 'shall', 'open', 'the', 'dispensary', '.']\n"
     ]
    }
   ],
   "source": [
    "#스페이스토큰라이너보다 조금 더 좋음 구둔점 까지 잘라줌\n",
    "print(\"Word Tokenizer 출력 :\",word_tokenize(rawText))"
   ]
  },
  {
   "cell_type": "code",
   "execution_count": 12,
   "id": "12daaa29",
   "metadata": {},
   "outputs": [
    {
     "name": "stdout",
     "output_type": "stream",
     "text": [
      "Tweet Tokenizer 출력 : ['This', 'is', 'a', 'cooool', '#dummysmiley', ':', ':-)', ':-P', '<3']\n"
     ]
    }
   ],
   "source": [
    "tTokenizer = TweetTokenizer()\n",
    "print(\"Tweet Tokenizer 출력 :\",tTokenizer.tokenize(\"This is a cooool #dummysmiley: :-) :-P <3\"))"
   ]
  },
  {
   "cell_type": "code",
   "execution_count": null,
   "id": "84cc5268",
   "metadata": {},
   "outputs": [],
   "source": []
  }
 ],
 "metadata": {
  "kernelspec": {
   "display_name": "Python 3",
   "language": "python",
   "name": "python3"
  },
  "language_info": {
   "codemirror_mode": {
    "name": "ipython",
    "version": 3
   },
   "file_extension": ".py",
   "mimetype": "text/x-python",
   "name": "python",
   "nbconvert_exporter": "python",
   "pygments_lexer": "ipython3",
   "version": "3.8.8"
  }
 },
 "nbformat": 4,
 "nbformat_minor": 5
}
