{
 "cells": [
  {
   "cell_type": "code",
   "execution_count": 1,
   "id": "c2b00041",
   "metadata": {},
   "outputs": [],
   "source": [
    "import nltk"
   ]
  },
  {
   "cell_type": "code",
   "execution_count": 2,
   "id": "8683e4a5",
   "metadata": {},
   "outputs": [],
   "source": [
    "from nltk.metrics.distance import edit_distance"
   ]
  },
  {
   "cell_type": "code",
   "execution_count": 4,
   "id": "7f1db095",
   "metadata": {},
   "outputs": [],
   "source": [
    "#테이블 만들기\n",
    "def my_edit_distance(str1, str2):\n",
    "    m = len(str1) + 1\n",
    "    n = len(str2) + 1\n",
    "    table = {}\n",
    "    for i in range(m):\n",
    "        table[i,0] = i\n",
    "    for j in range(n):\n",
    "        table[0,j]=j\n",
    "    for i in range(1, m):\n",
    "        for j in range(1, n):\n",
    "            cost = 0 if str1[i-1] == str2[j-1] else 1\n",
    "            table[i,j] = min(table[i, j-1]+1,table[i - 1,j]+1,table[i-1,j-1]+cost)\n",
    "    return table[i,j]"
   ]
  },
  {
   "cell_type": "code",
   "execution_count": 5,
   "id": "a979af07",
   "metadata": {},
   "outputs": [
    {
     "name": "stdout",
     "output_type": "stream",
     "text": [
      "Our AlgorIthm:  1\n",
      "NLTK Algorithm: 1\n"
     ]
    }
   ],
   "source": [
    "#두단어의 거리 비교\n",
    "print(\"Our AlgorIthm: \",my_edit_distance(\"hand\",\"and\"))\n",
    "print(\"NLTK Algorithm:\",edit_distance(\"hand\",\"and\"))"
   ]
  },
  {
   "cell_type": "code",
   "execution_count": null,
   "id": "43a4fd21",
   "metadata": {},
   "outputs": [],
   "source": []
  }
 ],
 "metadata": {
  "kernelspec": {
   "display_name": "Python 3",
   "language": "python",
   "name": "python3"
  },
  "language_info": {
   "codemirror_mode": {
    "name": "ipython",
    "version": 3
   },
   "file_extension": ".py",
   "mimetype": "text/x-python",
   "name": "python",
   "nbconvert_exporter": "python",
   "pygments_lexer": "ipython3",
   "version": "3.8.8"
  }
 },
 "nbformat": 4,
 "nbformat_minor": 5
}
