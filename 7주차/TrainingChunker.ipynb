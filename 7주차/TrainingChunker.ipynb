{
 "cells": [
  {
   "cell_type": "code",
   "execution_count": 14,
   "id": "69bea880",
   "metadata": {},
   "outputs": [
    {
     "name": "stderr",
     "output_type": "stream",
     "text": [
      "[nltk_data] Downloading package conll2000 to\n",
      "[nltk_data]     C:\\Users\\ghd92\\AppData\\Roaming\\nltk_data...\n",
      "[nltk_data]   Package conll2000 is already up-to-date!\n",
      "[nltk_data] Downloading package treebank to\n",
      "[nltk_data]     C:\\Users\\ghd92\\AppData\\Roaming\\nltk_data...\n",
      "[nltk_data]   Unzipping corpora\\treebank.zip.\n"
     ]
    },
    {
     "data": {
      "text/plain": [
       "True"
      ]
     },
     "execution_count": 14,
     "metadata": {},
     "output_type": "execute_result"
    }
   ],
   "source": [
    "import nltk\n",
    "nltk.download('conll2000')\n",
    "nltk.download('treebank')"
   ]
  },
  {
   "cell_type": "code",
   "execution_count": 15,
   "id": "82beeb55",
   "metadata": {},
   "outputs": [],
   "source": [
    "from nltk.corpus import conll2000\n",
    "from nltk.corpus import treebank_chunk"
   ]
  },
  {
   "cell_type": "code",
   "execution_count": 16,
   "id": "effd5bc7",
   "metadata": {},
   "outputs": [],
   "source": [
    "def mySimpleChunker():\n",
    "    grammar = 'NP : {<NNP>+}'\n",
    "    return nltk.RegexpParser(grammar)"
   ]
  },
  {
   "cell_type": "code",
   "execution_count": 17,
   "id": "ece7d0ba",
   "metadata": {},
   "outputs": [],
   "source": [
    "def test_nothing(data):\n",
    "    cp = nltk.RegexpParser(\"\")\n",
    "    print(cp.evaluate(data))"
   ]
  },
  {
   "cell_type": "code",
   "execution_count": 18,
   "id": "382bc7bf",
   "metadata": {},
   "outputs": [],
   "source": [
    "def test_mysimplechunker(data):\n",
    "    schunker = mySimpleChunker()\n",
    "    print(schunker.evaluate(data))"
   ]
  },
  {
   "cell_type": "code",
   "execution_count": 19,
   "id": "431ca402",
   "metadata": {},
   "outputs": [],
   "source": [
    "datasets = [\n",
    "    conll2000.chunked_sents('test.txt',chunk_types=['NP']),\n",
    "    treebank_chunk.chunked_sents()\n",
    "]"
   ]
  },
  {
   "cell_type": "code",
   "execution_count": 20,
   "id": "c4aeec38",
   "metadata": {},
   "outputs": [
    {
     "name": "stdout",
     "output_type": "stream",
     "text": [
      "ChunkParse score:\n",
      "    IOB Accuracy:  38.6%%\n",
      "    Precision:      0.0%%\n",
      "    Recall:         0.0%%\n",
      "    F-Measure:      0.0%%\n",
      "ChunkParse score:\n",
      "    IOB Accuracy:  48.2%%\n",
      "    Precision:     71.1%%\n",
      "    Recall:        17.2%%\n",
      "    F-Measure:     27.7%%\n",
      "ChunkParse score:\n",
      "    IOB Accuracy:  45.0%%\n",
      "    Precision:      0.0%%\n",
      "    Recall:         0.0%%\n",
      "    F-Measure:      0.0%%\n",
      "ChunkParse score:\n",
      "    IOB Accuracy:  50.7%%\n",
      "    Precision:     51.9%%\n",
      "    Recall:         8.8%%\n",
      "    F-Measure:     15.1%%\n"
     ]
    }
   ],
   "source": [
    "for dataset in datasets:\n",
    "    test_nothing(dataset[:50])\n",
    "    test_mysimplechunker(dataset[:50])"
   ]
  },
  {
   "cell_type": "code",
   "execution_count": null,
   "id": "5cdebdb0",
   "metadata": {},
   "outputs": [],
   "source": []
  }
 ],
 "metadata": {
  "kernelspec": {
   "display_name": "Python 3",
   "language": "python",
   "name": "python3"
  },
  "language_info": {
   "codemirror_mode": {
    "name": "ipython",
    "version": 3
   },
   "file_extension": ".py",
   "mimetype": "text/x-python",
   "name": "python",
   "nbconvert_exporter": "python",
   "pygments_lexer": "ipython3",
   "version": "3.8.8"
  }
 },
 "nbformat": 4,
 "nbformat_minor": 5
}
