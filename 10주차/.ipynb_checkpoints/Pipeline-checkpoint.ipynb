{
 "cells": [
  {
   "cell_type": "code",
   "execution_count": 13,
   "id": "79f011f1",
   "metadata": {},
   "outputs": [],
   "source": [
    "#NLP 파이프 라인 생성\n",
    "import nltk\n",
    "import threading\n",
    "import queue\n",
    "import feedparser\n",
    "import uuid"
   ]
  },
  {
   "cell_type": "code",
   "execution_count": 8,
   "id": "173df59e",
   "metadata": {},
   "outputs": [],
   "source": [
    "threads = [] #단일프로그램에서 겨량 테스크를 생성하는데 사용\n",
    "queues = [queue.Queue(), queue.Queue()] #드 개의 대기열 목록 생성"
   ]
  },
  {
   "cell_type": "code",
   "execution_count": 9,
   "id": "b39f8fcc",
   "metadata": {},
   "outputs": [],
   "source": [
    "def extractWords():\n",
    "    url = 'https://timesofindia.indiatimes.com/rssfeeds/1081479906.cms'\n",
    "    feed = feedparser.parse(url)\n",
    "    for entry in feed['entries'][:5]:\n",
    "        text = entry['title']\n",
    "        if 'ex' in text:\n",
    "            continue\n",
    "        words = nltk.word_tokenize(text)\n",
    "        data = {'uuid': uuid.uuid4(), 'input': words}\n",
    "        queues[0].put(data, True)\n",
    "        print(\">> {} : {}\".format(data['uuid'], text))"
   ]
  },
  {
   "cell_type": "code",
   "execution_count": 10,
   "id": "fa3ab97d",
   "metadata": {},
   "outputs": [],
   "source": [
    "def extractPOS():\n",
    "    while True:\n",
    "        if queues[0].empty():\n",
    "            break\n",
    "        else:\n",
    "            #첫번째 대기열에서 데이터를 읽어온 후, \n",
    "            #두번째 대기열에서 단어의 품사 저장\n",
    "            data = queues[0].get()\n",
    "            words = data['input']\n",
    "            postags = nltk.pos_tag(words)\n",
    "            queues[0].task_done()\n",
    "            queues[1].put({'uuid': data['uuid'], 'input': postags}, True)"
   ]
  },
  {
   "cell_type": "code",
   "execution_count": 11,
   "id": "741cfa88",
   "metadata": {},
   "outputs": [],
   "source": [
    "def extractNE():\n",
    "    while True:\n",
    "        if queues[1].empty():\n",
    "            break\n",
    "        else:\n",
    "            #두번째 대기열에서 품사 태그가 지정된 단어를 처리하여 개체명 출력\n",
    "            data = queues[1].get()\n",
    "            postags = data['input']\n",
    "            queues[1].task_done()\n",
    "            chunks = nltk.ne_chunk(postags, binary=False)\n",
    "            print(\"  << {} : \".format(data['uuid']), end = '')\n",
    "            for path in chunks:\n",
    "                try:\n",
    "                    label = path.label()\n",
    "                    print(path, end=', ')\n",
    "                except:\n",
    "                    pass\n",
    "            print()"
   ]
  },
  {
   "cell_type": "code",
   "execution_count": 12,
   "id": "6882375e",
   "metadata": {},
   "outputs": [],
   "source": [
    "#1.각각의 함수를 갖는 Thread를 생성\n",
    "#2.각 Thread에 개체를 저장\n",
    "#3.join()함수를 호출해 대기열에 할당된 자원을 해제\n",
    "def runProgram():\n",
    "    e = threading.Thread(target=extractWords())\n",
    "    e.start()\n",
    "    threads.append(e)\n",
    "\n",
    "    p = threading.Thread(target=extractPOS())\n",
    "    p.start()\n",
    "    threads.append(p)\n",
    "\n",
    "    n = threading.Thread(target=extractNE())\n",
    "    n.start()\n",
    "    threads.append(n)\n",
    "    \n",
    "    #5개의 교유 id,text 데이터와 chunking된 결과를 출력\n",
    "    queues[0].join()\n",
    "    queues[1].join()\n",
    "\n",
    "    for t in threads:\n",
    "        t.join()"
   ]
  },
  {
   "cell_type": "code",
   "execution_count": 7,
   "id": "9981f96e",
   "metadata": {},
   "outputs": [
    {
     "name": "stdout",
     "output_type": "stream",
     "text": [
      ">> 8851e9a1-bdec-4fca-8416-150b14112203 : SRK & Arbaaz's dad share the same birthday\n",
      ">> 27e8adce-b19a-43e8-a4d1-5093ac7490bd : Twitter shares memes on Anushka-Virat\n",
      ">> 1400d661-2656-4990-8a8e-d3e53e9460c0 : Fans of Alia Bhatt discover her lookalike\n",
      ">> b9ecd084-a7a5-4da1-996b-e1010b63fd5f : Newlyweds who will celebrate their 1st Diwali\n",
      ">> 4739dbbd-afee-4e65-bcd2-36e13acb9256 : Hansal Mehta: SRK is my superstar forever\n",
      "  << 8851e9a1-bdec-4fca-8416-150b14112203 : (ORGANIZATION SRK/NNP), (PERSON Arbaaz/NNP), \n",
      "  << 27e8adce-b19a-43e8-a4d1-5093ac7490bd : \n",
      "  << 1400d661-2656-4990-8a8e-d3e53e9460c0 : (PERSON Alia/NNP Bhatt/NNP), \n",
      "  << b9ecd084-a7a5-4da1-996b-e1010b63fd5f : \n",
      "  << 4739dbbd-afee-4e65-bcd2-36e13acb9256 : (PERSON Hansal/NNP), (PERSON Mehta/NNP), \n"
     ]
    }
   ],
   "source": [
    "if __name__ == '__main__':\n",
    "    runProgram()"
   ]
  },
  {
   "cell_type": "code",
   "execution_count": null,
   "id": "728e19cf",
   "metadata": {},
   "outputs": [],
   "source": []
  }
 ],
 "metadata": {
  "kernelspec": {
   "display_name": "Python 3",
   "language": "python",
   "name": "python3"
  },
  "language_info": {
   "codemirror_mode": {
    "name": "ipython",
    "version": 3
   },
   "file_extension": ".py",
   "mimetype": "text/x-python",
   "name": "python",
   "nbconvert_exporter": "python",
   "pygments_lexer": "ipython3",
   "version": "3.8.8"
  }
 },
 "nbformat": 4,
 "nbformat_minor": 5
}
