{
 "cells": [
  {
   "cell_type": "code",
   "execution_count": 5,
   "id": "071da7ed",
   "metadata": {},
   "outputs": [
    {
     "name": "stdout",
     "output_type": "stream",
     "text": [
      "Collecting gensim==3.6.0\n",
      "  Downloading gensim-3.6.0.tar.gz (23.1 MB)\n",
      "Requirement already satisfied: numpy>=1.11.3 in c:\\users\\ghd92\\anaconda3\\lib\\site-packages (from gensim==3.6.0) (1.19.5)\n",
      "Requirement already satisfied: scipy>=0.18.1 in c:\\users\\ghd92\\anaconda3\\lib\\site-packages (from gensim==3.6.0) (1.6.2)\n",
      "Requirement already satisfied: six>=1.5.0 in c:\\users\\ghd92\\anaconda3\\lib\\site-packages (from gensim==3.6.0) (1.15.0)\n",
      "Requirement already satisfied: smart_open>=1.2.1 in c:\\users\\ghd92\\anaconda3\\lib\\site-packages (from gensim==3.6.0) (5.2.1)\n",
      "Building wheels for collected packages: gensim\n",
      "  Building wheel for gensim (setup.py): started\n",
      "  Building wheel for gensim (setup.py): finished with status 'done'\n",
      "  Created wheel for gensim: filename=gensim-3.6.0-cp38-cp38-win_amd64.whl size=23700715 sha256=fffaa2f6a3066d0d13c51a6d521f14bb7c8c771e06eb5c7e00cb59862cb20804\n",
      "  Stored in directory: c:\\users\\ghd92\\appdata\\local\\pip\\cache\\wheels\\d6\\5b\\91\\658efb08f9d790987e1ef3795e62e129868afb0fde409baac5\n",
      "Successfully built gensim\n",
      "Installing collected packages: gensim\n",
      "  Attempting uninstall: gensim\n",
      "    Found existing installation: gensim 4.1.2\n",
      "    Uninstalling gensim-4.1.2:\n",
      "      Successfully uninstalled gensim-4.1.2\n"
     ]
    },
    {
     "name": "stderr",
     "output_type": "stream",
     "text": [
      "ERROR: Could not install packages due to an OSError: [WinError 5] 액세스가 거부되었습니다: 'C:\\\\Users\\\\ghd92\\\\anaconda3\\\\Lib\\\\site-packages\\\\~ensim\\\\corpora\\\\_mmreader.cp38-win_amd64.pyd'\n",
      "Consider using the `--user` option or check the permissions.\n",
      "\n"
     ]
    }
   ],
   "source": [
    "!pip3 install gensim==3.6.0\n",
    "from gensim.summarization import summarize\n",
    "from bs4 import BeautifulSoup\n",
    "import requests"
   ]
  },
  {
   "cell_type": "code",
   "execution_count": 7,
   "id": "95209f03",
   "metadata": {},
   "outputs": [
    {
     "name": "stdout",
     "output_type": "stream",
     "text": [
      "PAPER URL: http://scigen.csail.mit.edu/scicache/270/scimakelatex.26087.Qiang-Qiang+Yan.Hai-Wei+Liang.html\n",
      "TITLE: Exploration of the Location-Identity Split\n",
      "GENERATED SUMMARY: wide-area networks.\n",
      "construction of online algorithms by Lee and Davis runs in\n",
      "this solution perfect:  YnowHip simulates pervasive symmetries, and\n",
      "also YnowHip provides replicated symmetries.\n",
      "properties has not yet been improved in prior work.\n",
      "Internet QoS, we believe that a different approach is necessary.\n",
      "Internet QoS  (YnowHip), verifying that hierarchical databases  can\n",
      "Moore's Law  and write-back caches  are entirely incompatible.\n",
      "with the prior work in this area.\n",
      "Figure 1 details our framework's probabilistic\n",
      "We consider a framework consisting of n\n",
      "Therefore, the design that YnowHip uses\n",
      "Suppose that there exists heterogeneous configurations such that we can\n",
      "Figure 1 diagrams YnowHip's mobile analysis.\n",
      "We consider an algorithm consisting\n",
      "consider an algorithm consisting of n systems.\n",
      "electrical engineers entirely assume the exact opposite, YnowHip\n",
      "Thus, the methodology that YnowHip uses holds for\n",
      "Overall, YnowHip adds only modest overhead and complexity to previous\n",
      "4  Results and Analysis\n",
      "Our performance analysis represents a valuable research contribution in\n",
      "The 10th-percentile power of YnowHip, as a function of sampling rate.\n",
      "A well-tuned network setup holds the key to an useful evaluation\n",
      "lines, we removed some floppy disk space from our mobile telephones.\n",
      "The expected work factor of our methodology, compared with the other\n",
      "We added support for YnowHip as a Markov runtime\n",
      "We added support for YnowHip as a computationally independent\n",
      "4.2  Experiments and Results\n",
      "measured optical drive space as a function of ROM throughput on an IBM\n",
      "checksums; and (4) we dogfooded YnowHip on our own desktop machines,\n",
      "results of some earlier experiments, notably when we measured tape drive\n",
      "attention to YnowHip's seek time.\n",
      "Note that sensor networks have less\n",
      "them in software produce more jagged, more reproducible results.\n",
      "anticipated how precise our results were in this phase of the evaluation\n",
      "Note that web browsers have less discretized flash-memory\n",
      "Note how rolling out Web\n",
      "Our solution is related to research into metamorphic methodologies,\n",
      "similar methodology, however we disproved that our algorithm follows a\n",
      "prior work supports our use of randomized algorithms.\n",
      "YnowHip also\n",
      "general, our application outperformed all prior methodologies in this\n",
      "Our solution is related to research into the UNIVAC computer, reliable\n",
      "that we synthesize only structured configurations in our algorithm\n",
      "approach represents a significant advance above this work.\n",
      "YnowHip outperformed all prior solutions in this area.\n",
      "our methodology runs in Θ(n2) time  [11].\n",
      "approach to Web services  differs from that of Hector Garcia-Molina\n",
      "A deployment of fiber-optic cables.\n",
      "Refining Web services using electronic theory.\n",
      "In Proceedings of the Symposium on Relational, Self-Learning\n",
      "Decoupling sensor networks from congestion control in superpages.\n",
      "In Proceedings of FOCS  (Mar. 1986).\n",
      "A methodology for the understanding of information retrieval systems.\n",
      "In Proceedings of the Conference on Empathic, Bayesian\n",
      "In Proceedings of the Conference on Secure Epistemologies \n",
      "Deconstructing access points using Bub.\n",
      "In Proceedings of the Conference on Flexible, Certifiable\n",
      "In Proceedings of the WWW Conference  (Jan. 1995).\n",
      "Contrasting lambda calculus and local-area networks.\n",
      "Refining superpages using read-write technology.\n",
      "Journal of Introspective, Modular Methodologies 25  (July\n",
      "Refining erasure coding using certifiable methodologies.\n",
      "In Proceedings of the Conference on Replicated, Compact\n",
      "Yan, Q.-Q., and Bose, B.\n",
      "Simulating neural networks using semantic algorithms.\n",
      "Configurations  (Mar. 1999).\n",
      "\n",
      "PAPER URL: http://scigen.csail.mit.edu/scicache/269/scimakelatex.25977.Aiden+Pearce.html\n",
      "TITLE: Deconstructing Voice-over-IP\n",
      "GENERATED SUMMARY: information is usually adamantly opposed.\n",
      "We emphasize that our heuristic develops\n",
      "manages access points, and also we allow flip-flop gates  to explore\n",
      "learning as following a cycle of four phases: deployment, provision,\n",
      "a cycle of four phases: allowance, evaluation, investigation, and\n",
      "Combined with Lamport clocks, this discussion develops an\n",
      "analysis of B-trees.\n",
      "The rest of this paper is organized as follows.\n",
      "motivate the need for wide-area networks [2].\n",
      "can be applied to the exploration of local-area networks.\n",
      "same lines, we prove the development of linked lists.\n",
      "\n"
     ]
    }
   ],
   "source": [
    "urls = {\n",
    "    'Exploration of the Location-Identity Split': 'http://scigen.csail.mit.edu/scicache/270/scimakelatex.26087.Qiang-Qiang+Yan.Hai-Wei+Liang.html',\n",
    "    'Deconstructing Voice-over-IP' : 'http://scigen.csail.mit.edu/scicache/269/scimakelatex.25977.Aiden+Pearce.html'\n",
    "}\n",
    "\n",
    "for key in urls.keys():\n",
    "    url = urls[key]\n",
    "    r = requests.get(url)\n",
    "    soup = BeautifulSoup(r.text, 'html.parser')\n",
    "    data = soup.get_text()\n",
    "    pos1 = data.find(\"1  Introduction\") + len(\"1  Introduction\")\n",
    "    pos2 = data.find(\"2  Related Work\")\n",
    "    text = data[pos1:pos2].strip()\n",
    "    print(\"PAPER URL: {}\".format(url))\n",
    "    print(\"TITLE: {}\".format(key))\n",
    "    print(\"GENERATED SUMMARY: {}\".format(summarize(text)))\n",
    "    print()"
   ]
  },
  {
   "cell_type": "code",
   "execution_count": null,
   "id": "e4250f5c",
   "metadata": {},
   "outputs": [],
   "source": []
  }
 ],
 "metadata": {
  "kernelspec": {
   "display_name": "Python 3",
   "language": "python",
   "name": "python3"
  },
  "language_info": {
   "codemirror_mode": {
    "name": "ipython",
    "version": 3
   },
   "file_extension": ".py",
   "mimetype": "text/x-python",
   "name": "python",
   "nbconvert_exporter": "python",
   "pygments_lexer": "ipython3",
   "version": "3.8.8"
  }
 },
 "nbformat": 4,
 "nbformat_minor": 5
}
