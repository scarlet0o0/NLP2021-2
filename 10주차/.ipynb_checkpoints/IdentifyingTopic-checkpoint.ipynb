{
 "cells": [
  {
   "cell_type": "code",
   "execution_count": 3,
   "id": "cfc23b9e",
   "metadata": {},
   "outputs": [
    {
     "name": "stdout",
     "output_type": "stream",
     "text": [
      "Requirement already satisfied: gensim in c:\\users\\ghd92\\anaconda3\\lib\\site-packages (3.6.0)\n",
      "Requirement already satisfied: scipy>=0.18.1 in c:\\users\\ghd92\\anaconda3\\lib\\site-packages (from gensim) (1.4.1)\n",
      "Requirement already satisfied: numpy>=1.11.3 in c:\\users\\ghd92\\anaconda3\\lib\\site-packages (from gensim) (1.19.5)\n",
      "Requirement already satisfied: smart-open>=1.2.1 in c:\\users\\ghd92\\anaconda3\\lib\\site-packages (from gensim) (5.2.1)\n",
      "Requirement already satisfied: six>=1.5.0 in c:\\users\\ghd92\\anaconda3\\lib\\site-packages (from gensim) (1.15.0)\n"
     ]
    },
    {
     "name": "stderr",
     "output_type": "stream",
     "text": [
      "C:\\Users\\ghd92\\anaconda3\\lib\\site-packages\\gensim\\utils.py:1212: UserWarning: detected Windows; aliasing chunkize to chunkize_serial\n",
      "  warnings.warn(\"detected Windows; aliasing chunkize to chunkize_serial\")\n"
     ]
    }
   ],
   "source": [
    "#주제 식별\n",
    "!pip install gensim\n",
    "from nltk.tokenize import RegexpTokenizer\n",
    "from nltk.corpus import stopwords\n",
    "from gensim import corpora, models\n",
    "import nltk\n",
    "import feedparser"
   ]
  },
  {
   "cell_type": "code",
   "execution_count": 8,
   "id": "85b203d5",
   "metadata": {},
   "outputs": [],
   "source": [
    "class IdentifyingTopicExample:  \n",
    "    \n",
    "    def getDocuments(self):      \n",
    "        #URL의 문서를 다운로드하고 feed라는 변수에 저장\n",
    "        url = 'https://sports.yahoo.com/mlb/rss.xml'\n",
    "        feed = feedparser.parse(url)\n",
    "        \n",
    "        self.documents = []\n",
    "        for entry in feed['entries'][:5]: #상위 5개의 entries중 \n",
    "            text = entry['summary'] # sunnary 문서를 text로 저장\n",
    "            if 'ex' in text:\n",
    "                continue\n",
    "            self.documents.append(text)\n",
    "            print(\"-- {}\".format(text))\n",
    "            \n",
    "        print(\"\\n\")\n",
    "        print(\"INFO: Fetching documents from {} completed\".format(url))\n",
    "        print(\"\\n\")\n",
    "\n",
    "    def cleanDocuments(self):\n",
    "        tokenizer = RegexpTokenizer(r'[a-zA-Z]+') # 각 토큰은 a-z, A-Z사이의 문자로 구성\n",
    "        en_stop = set(stopwords.words('english'))\n",
    "        self.cleaned = []\n",
    "        \n",
    "        for doc in self.documents:\n",
    "            lowercase_doc = doc.lower()\n",
    "            words = tokenizer.tokenize(lowercase_doc) # NLTK의 지정된 불용어를 제거\n",
    "            non_stopped_words = [i for i in words if not i in en_stop]\n",
    "            self.cleaned.append(non_stopped_words)\n",
    "            \n",
    "        print(\"INFO: Clearning {} documents completed\".format(len(self.documents)))\n",
    "        print(\"\\n\")\n",
    "\n",
    "    def doLDA(self):\n",
    "        dictionary = corpora.Dictionary(self.cleaned)\n",
    "        corpus = [dictionary.doc2bow(cleandoc) for cleandoc in self.cleaned]\n",
    "        #토픽 수를 2로 정한 말뭉치 모델을 생성하고 어휘크기를 설정\n",
    "        ldamodel = models.ldamodel.LdaModel(corpus, num_topics=2, id2word = dictionary)\n",
    "        print(ldamodel.print_topics(num_topics=2, num_words=4)) # 토픽당 4개의 단어 출력\n",
    "        print(\"\\n\")\n",
    "\n",
    "    def run(self): #함수 순서대로 실행\n",
    "        self.getDocuments()\n",
    "        self.cleanDocuments()\n",
    "        self.doLDA()"
   ]
  },
  {
   "cell_type": "code",
   "execution_count": 9,
   "id": "54b4689a",
   "metadata": {},
   "outputs": [
    {
     "name": "stdout",
     "output_type": "stream",
     "text": [
      "-- Former Dodgers star Gil Hodges and Negro Leagues legend Buck O'Neil headline a big Hall of Fame class added via its committee voting.\n",
      "-- Ron Darling hesitated to make the Max Scherzer - Tom Brady comparison, knowing it might sound like overstatement. But it seemed appropriate to him.\n",
      "-- Will Seiya Suzuki land in the American League East? The Red Sox, Yankees and Blue Jays are all aggressively pursuing the Japanese star, per a report.\n",
      "-- Today’s guest columnist is Andrew Zimbalist, professor of economics at Smith College and author of several books on the economics of baseball. He has consulted in the past both for the MLB Players Association and the commissioner’s office. MLB has entered its first work stoppage since 1995. It is not surprising to see the union […]\n",
      "-- Gil Hodges and Buck O'Neil were among the six elected to the National Baseball Hall of Fame following Sunday's committee meetings.\n",
      "\n",
      "\n",
      "INFO: Fetching documents from https://sports.yahoo.com/mlb/rss.xml completed\n",
      "\n",
      "\n",
      "INFO: Clearning 5 documents completed\n",
      "\n",
      "\n",
      "[(0, '0.023*\"buck\" + 0.022*\"hodges\" + 0.021*\"committee\" + 0.021*\"neil\"'), (1, '0.016*\"baseball\" + 0.016*\"like\" + 0.015*\"knowing\" + 0.015*\"comparison\"')]\n",
      "\n",
      "\n"
     ]
    }
   ],
   "source": [
    "if __name__ == '__main__':\n",
    "    topicExample = IdentifyingTopicExample()\n",
    "    topicExample.run()\n"
   ]
  },
  {
   "cell_type": "code",
   "execution_count": null,
   "id": "df3b2e63",
   "metadata": {},
   "outputs": [],
   "source": []
  }
 ],
 "metadata": {
  "kernelspec": {
   "display_name": "Python 3",
   "language": "python",
   "name": "python3"
  },
  "language_info": {
   "codemirror_mode": {
    "name": "ipython",
    "version": 3
   },
   "file_extension": ".py",
   "mimetype": "text/x-python",
   "name": "python",
   "nbconvert_exporter": "python",
   "pygments_lexer": "ipython3",
   "version": "3.8.8"
  }
 },
 "nbformat": 4,
 "nbformat_minor": 5
}
