{
 "cells": [
  {
   "cell_type": "code",
   "execution_count": 3,
   "id": "cfc23b9e",
   "metadata": {},
   "outputs": [
    {
     "name": "stdout",
     "output_type": "stream",
     "text": [
      "Collecting gensim\n",
      "  Downloading gensim-4.1.2-cp38-cp38-win_amd64.whl (24.0 MB)\n",
      "Requirement already satisfied: Cython==0.29.23 in c:\\users\\ghd92\\anaconda3\\lib\\site-packages (from gensim) (0.29.23)\n",
      "Requirement already satisfied: numpy>=1.17.0 in c:\\users\\ghd92\\anaconda3\\lib\\site-packages (from gensim) (1.19.5)\n",
      "Requirement already satisfied: smart-open>=1.8.1 in c:\\users\\ghd92\\anaconda3\\lib\\site-packages (from gensim) (5.2.1)\n",
      "Requirement already satisfied: scipy>=0.18.1 in c:\\users\\ghd92\\anaconda3\\lib\\site-packages (from gensim) (1.6.2)\n",
      "Installing collected packages: gensim\n",
      "Successfully installed gensim-4.1.2\n"
     ]
    }
   ],
   "source": [
    "!pip install gensim\n",
    "from nltk.tokenize import RegexpTokenizer\n",
    "from nltk.corpus import stopwords\n",
    "from gensim import corpora, models\n",
    "import nltk\n",
    "import feedparser"
   ]
  },
  {
   "cell_type": "code",
   "execution_count": 4,
   "id": "85b203d5",
   "metadata": {},
   "outputs": [],
   "source": [
    "class IdentifyingTopicExample:\n",
    "    def getDocuments(self):\n",
    "        url = 'https://sports.yahoo.com/mlb/rss.xml'\n",
    "        feed = feedparser.parse(url)\n",
    "        self.documents = []\n",
    "        for entry in feed['entries'][:5]:\n",
    "            text = entry['summary']\n",
    "            if 'ex' in text:\n",
    "                continue\n",
    "            self.documents.append(text)\n",
    "            print(\"-- {}\".format(text))\n",
    "        print(\"INFO: Fetching documents from {} completed\".format(url))\n",
    "\n",
    "    def cleanDocuments(self):\n",
    "        tokenizer = RegexpTokenizer(r'[a-zA-Z]+')\n",
    "        en_stop = set(stopwords.words('english'))\n",
    "        self.cleaned = []\n",
    "        for doc in self.documents:\n",
    "            lowercase_doc = doc.lower()\n",
    "            words = tokenizer.tokenize(lowercase_doc)\n",
    "            non_stopped_words = [i for i in words if not i in en_stop]\n",
    "            self.cleaned.append(non_stopped_words)\n",
    "        print(\"INFO: Clearning {} documents completed\".format(len(self.documents)))\n",
    "\n",
    "    def doLDA(self):\n",
    "        dictionary = corpora.Dictionary(self.cleaned)\n",
    "        corpus = [dictionary.doc2bow(cleandoc) for cleandoc in self.cleaned]\n",
    "        ldamodel = models.ldamodel.LdaModel(corpus, num_topics=2, id2word = dictionary)\n",
    "        print(ldamodel.print_topics(num_topics=2, num_words=4))\n",
    "\n",
    "    def run(self):\n",
    "        self.getDocuments()\n",
    "        self.cleanDocuments()\n",
    "        self.doLDA()"
   ]
  },
  {
   "cell_type": "code",
   "execution_count": 5,
   "id": "54b4689a",
   "metadata": {},
   "outputs": [
    {
     "name": "stdout",
     "output_type": "stream",
     "text": [
      "-- Houston shrugged off Atlanta's first-inning grand slam in a World Series elimination game, casually fighting back to keep its season alive.\n",
      "-- The Snitker family's journey to the World Series started in 1976. And they wouldn't have it any other way.\n",
      "-- Second base just might be the White Sox' biggest need this winter. Here are some free agents who could be the solution.\n",
      "INFO: Fetching documents from https://sports.yahoo.com/mlb/rss.xml completed\n",
      "INFO: Clearning 3 documents completed\n",
      "[(0, '0.056*\"series\" + 0.051*\"started\" + 0.051*\"world\" + 0.051*\"way\"'), (1, '0.037*\"world\" + 0.034*\"back\" + 0.034*\"inning\" + 0.034*\"houston\"')]\n"
     ]
    }
   ],
   "source": [
    "if __name__ == '__main__':\n",
    "    topicExample = IdentifyingTopicExample()\n",
    "    topicExample.run()\n"
   ]
  },
  {
   "cell_type": "code",
   "execution_count": null,
   "id": "df3b2e63",
   "metadata": {},
   "outputs": [],
   "source": []
  }
 ],
 "metadata": {
  "kernelspec": {
   "display_name": "Python 3",
   "language": "python",
   "name": "python3"
  },
  "language_info": {
   "codemirror_mode": {
    "name": "ipython",
    "version": 3
   },
   "file_extension": ".py",
   "mimetype": "text/x-python",
   "name": "python",
   "nbconvert_exporter": "python",
   "pygments_lexer": "ipython3",
   "version": "3.8.8"
  }
 },
 "nbformat": 4,
 "nbformat_minor": 5
}
