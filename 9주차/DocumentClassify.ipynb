{
 "cells": [
  {
   "cell_type": "code",
   "execution_count": 2,
   "metadata": {},
   "outputs": [],
   "source": [
    "#문서 분류\n",
    "import nltk\n",
    "import random\n",
    "import feedparser"
   ]
  },
  {
   "cell_type": "code",
   "execution_count": 3,
   "metadata": {},
   "outputs": [],
   "source": [
    "urls = {\n",
    "    'mlb': 'https://sports.yahoo.com/mlb/rss.xml',\n",
    "    'nfl': 'https://sports.yahoo.com/nfl/rss.xml',\n",
    "}"
   ]
  },
  {
   "cell_type": "code",
   "execution_count": 4,
   "metadata": {},
   "outputs": [],
   "source": [
    "feedmap = {}\n",
    "stopwords = nltk.corpus.stopwords.words('english') #불용어 제거"
   ]
  },
  {
   "cell_type": "code",
   "execution_count": 5,
   "metadata": {},
   "outputs": [],
   "source": [
    "#던어 목록을 가져와 Dictionary에 추가\n",
    "def featureExtractor(words):\n",
    "    features = {}\n",
    "    for word in words:\n",
    "        if word not in stopwords:\n",
    "            features[\"word({})\".format(word)] = True\n",
    "    return features"
   ]
  },
  {
   "cell_type": "code",
   "execution_count": 6,
   "metadata": {},
   "outputs": [],
   "source": [
    "sentences = []"
   ]
  },
  {
   "cell_type": "code",
   "execution_count": 7,
   "metadata": {},
   "outputs": [
    {
     "name": "stdout",
     "output_type": "stream",
     "text": [
      "downloading https://sports.yahoo.com/mlb/rss.xml\n",
      "downloading https://sports.yahoo.com/nfl/rss.xml\n"
     ]
    }
   ],
   "source": [
    "\n",
    "for category in urls.keys():\n",
    "    feedmap[category] = feedparser.parse(urls[category])\n",
    "    print(\"downloading {}\".format(urls[category]))\n",
    "    for entry in feedmap[category]['entries']:\n",
    "        data = entry['summary']\n",
    "        words = data.split()\n",
    "        sentences.append((category, words))\n",
    "\n",
    "featuresets = [(featureExtractor(words), category) for category, words in sentences]\n",
    "random.shuffle(featuresets)"
   ]
  },
  {
   "cell_type": "code",
   "execution_count": 8,
   "metadata": {},
   "outputs": [],
   "source": [
    "total = len(featuresets)\n",
    "off = int(total/2)\n",
    "trainset = featuresets[off:]\n",
    "testset = featuresets[:off]\n",
    "\n",
    "classifier = nltk.NaiveBayesClassifier.train(trainset)"
   ]
  },
  {
   "cell_type": "code",
   "execution_count": 9,
   "metadata": {},
   "outputs": [
    {
     "name": "stdout",
     "output_type": "stream",
     "text": [
      "0.9019607843137255\n"
     ]
    }
   ],
   "source": [
    "print(nltk.classify.accuracy(classifier, testset))"
   ]
  },
  {
   "cell_type": "code",
   "execution_count": 10,
   "metadata": {},
   "outputs": [
    {
     "name": "stdout",
     "output_type": "stream",
     "text": [
      "Most Informative Features\n",
      "             word(first) = True              mlb : nfl    =      3.6 : 1.0\n",
      "            word(Monday) = True              nfl : mlb    =      2.8 : 1.0\n",
      "               word(Tom) = True              nfl : mlb    =      2.0 : 1.0\n",
      "              word(five) = True              nfl : mlb    =      2.0 : 1.0\n",
      "              word(pick) = True              nfl : mlb    =      2.0 : 1.0\n",
      "mlb -> Tony Romo, CBS's top NFL commentator, suggested that the fan who got Tom Brady's 600th TD ball ask for \"a date with Gisele.\" It was crude and unacceptable.\n",
      "nfl -> Tom Brady might have some explaining to do when he sees the defensive players next at the Tampa Bay Buccaneers' headquarters.\n",
      "mlb -> The 49ers are sliding, and their coach is under pressure to turn it around.\n",
      "nfl -> NFC teams lock down top five spots, but AFC clubs are slotted sixth through 11th as power dynamics shift.\n"
     ]
    }
   ],
   "source": [
    "classifier.show_most_informative_features(5)\n",
    "for (i, entry) in enumerate(feedmap['nfl']['entries']):\n",
    "    if i < 4:\n",
    "        features = featureExtractor(entry['title'].split())\n",
    "        category = classifier.classify(features)\n",
    "        print('{} -> {}'.format(category, entry['summary']))"
   ]
  },
  {
   "cell_type": "code",
   "execution_count": null,
   "metadata": {},
   "outputs": [],
   "source": []
  }
 ],
 "metadata": {
  "anaconda-cloud": {},
  "kernelspec": {
   "display_name": "Python 3",
   "language": "python",
   "name": "python3"
  },
  "language_info": {
   "codemirror_mode": {
    "name": "ipython",
    "version": 3
   },
   "file_extension": ".py",
   "mimetype": "text/x-python",
   "name": "python",
   "nbconvert_exporter": "python",
   "pygments_lexer": "ipython3",
   "version": "3.8.8"
  }
 },
 "nbformat": 4,
 "nbformat_minor": 4
}
