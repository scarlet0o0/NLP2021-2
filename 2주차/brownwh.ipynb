{
 "cells": [
  {
   "cell_type": "code",
   "execution_count": 1,
   "id": "fc8c5688",
   "metadata": {},
   "outputs": [],
   "source": [
    "import nltk"
   ]
  },
  {
   "cell_type": "code",
   "execution_count": 2,
   "id": "9bea9997",
   "metadata": {},
   "outputs": [
    {
     "name": "stderr",
     "output_type": "stream",
     "text": [
      "[nltk_data] Downloading package brown to\n",
      "[nltk_data]     C:\\Users\\ghd92\\AppData\\Roaming\\nltk_data...\n",
      "[nltk_data]   Unzipping corpora\\brown.zip.\n"
     ]
    },
    {
     "data": {
      "text/plain": [
       "True"
      ]
     },
     "execution_count": 2,
     "metadata": {},
     "output_type": "execute_result"
    }
   ],
   "source": [
    "nltk.download('brown')"
   ]
  },
  {
   "cell_type": "code",
   "execution_count": 3,
   "id": "9ab78005",
   "metadata": {},
   "outputs": [],
   "source": [
    "from nltk.corpus import brown"
   ]
  },
  {
   "cell_type": "code",
   "execution_count": 4,
   "id": "60a2aed5",
   "metadata": {},
   "outputs": [
    {
     "name": "stdout",
     "output_type": "stream",
     "text": [
      "['adventure', 'belles_lettres', 'editorial', 'fiction', 'government', 'hobbies', 'humor', 'learned', 'lore', 'mystery', 'news', 'religion', 'reviews', 'romance', 'science_fiction']\n"
     ]
    }
   ],
   "source": [
    "print(brown.categories())"
   ]
  },
  {
   "cell_type": "code",
   "execution_count": 10,
   "id": "c6a6b565",
   "metadata": {},
   "outputs": [],
   "source": [
    "genres = ['fiction','humor','romance'] #장르"
   ]
  },
  {
   "cell_type": "code",
   "execution_count": 11,
   "id": "dadc09e0",
   "metadata": {},
   "outputs": [],
   "source": [
    "whwords = ['what','which','how','why','when','where','who'] #육하원칙"
   ]
  },
  {
   "cell_type": "code",
   "execution_count": 16,
   "id": "03c15b28",
   "metadata": {
    "scrolled": true
   },
   "outputs": [
    {
     "name": "stdout",
     "output_type": "stream",
     "text": [
      "\n",
      "'fiction' wh 단어 분석\n",
      "what: 128 which: 123 how: 54 why: 18 when: 133 where: 76 who: 103 \n",
      "'humor' wh 단어 분석\n",
      "what: 36 which: 62 how: 18 why: 9 when: 52 where: 15 who: 48 \n",
      "'romance' wh 단어 분석\n",
      "what: 121 which: 104 how: 60 why: 34 when: 126 where: 54 who: 89 "
     ]
    }
   ],
   "source": [
    "for i in range(0,len(genres)):\n",
    "    genre = genres[i] #장르라는 변수\n",
    "    print()\n",
    "    print(\"'\"+genre+\"' wh 단어 분석\")\n",
    "    genre_text = brown.words(categories = genre)\n",
    "    fdist = nltk.FreqDist(genre_text)# genre_text 들어있는 단어들의 빈도를 계산해줌 \n",
    "    for wh in whwords:\n",
    "        print(wh + ':',fdist[wh],end=' ')"
   ]
  },
  {
   "cell_type": "code",
   "execution_count": 17,
   "id": "ca41c473",
   "metadata": {},
   "outputs": [],
   "source": [
    "\n",
    "# 위에꺼만 알면됨 아래는 참고\n",
    "fdist = nltk.FreqDist(genre_text)"
   ]
  },
  {
   "cell_type": "code",
   "execution_count": 18,
   "id": "882f8575",
   "metadata": {},
   "outputs": [
    {
     "name": "stdout",
     "output_type": "stream",
     "text": [
      "what: 121 which: 104 how: 60 why: 34 when: 126 where: 54 who: 89 "
     ]
    }
   ],
   "source": [
    "for wh in whwords:\n",
    "    print(wh + ':' ,fdist[wh], end=' ')"
   ]
  },
  {
   "cell_type": "code",
   "execution_count": null,
   "id": "a014b0d5",
   "metadata": {},
   "outputs": [],
   "source": []
  }
 ],
 "metadata": {
  "kernelspec": {
   "display_name": "Python 3",
   "language": "python",
   "name": "python3"
  },
  "language_info": {
   "codemirror_mode": {
    "name": "ipython",
    "version": 3
   },
   "file_extension": ".py",
   "mimetype": "text/x-python",
   "name": "python",
   "nbconvert_exporter": "python",
   "pygments_lexer": "ipython3",
   "version": "3.8.8"
  }
 },
 "nbformat": 4,
 "nbformat_minor": 5
}
