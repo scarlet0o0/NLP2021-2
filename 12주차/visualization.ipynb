{
 "cells": [
  {
   "cell_type": "code",
   "execution_count": 10,
   "id": "7cc12974",
   "metadata": {},
   "outputs": [
    {
     "name": "stdout",
     "output_type": "stream",
     "text": [
      "Requirement already satisfied: nltk in c:\\users\\ghd92\\anaconda3\\lib\\site-packages (3.6.1)\n",
      "Requirement already satisfied: joblib in c:\\users\\ghd92\\anaconda3\\lib\\site-packages (from nltk) (1.0.1)\n",
      "Requirement already satisfied: tqdm in c:\\users\\ghd92\\anaconda3\\lib\\site-packages (from nltk) (4.59.0)\n",
      "Requirement already satisfied: regex in c:\\users\\ghd92\\anaconda3\\lib\\site-packages (from nltk) (2021.4.4)\n",
      "Requirement already satisfied: click in c:\\users\\ghd92\\anaconda3\\lib\\site-packages (from nltk) (7.1.2)\n"
     ]
    }
   ],
   "source": [
    "!pip install nltk"
   ]
  },
  {
   "cell_type": "code",
   "execution_count": 13,
   "id": "8d8d989d",
   "metadata": {},
   "outputs": [],
   "source": [
    "from __future__ import print_function\n",
    "import os"
   ]
  },
  {
   "cell_type": "code",
   "execution_count": 14,
   "id": "fc7a9e0a",
   "metadata": {},
   "outputs": [],
   "source": [
    "import nltk\n",
    "from nltk.corpus import stopwords\n",
    "from nltk.stem import WordNetLemmatizer\n",
    "from nltk import pos_tag\n",
    "from nltk.stem import PorterStemmer"
   ]
  },
  {
   "cell_type": "code",
   "execution_count": 15,
   "id": "df764f7b",
   "metadata": {},
   "outputs": [],
   "source": [
    "import string\n",
    "import numpy as np\n",
    "import pandas as pd\n",
    "import random"
   ]
  },
  {
   "cell_type": "code",
   "execution_count": 16,
   "id": "1c689e03",
   "metadata": {},
   "outputs": [],
   "source": [
    "from sklearn.model_selection import train_test_split\n",
    "from sklearn.preprocessing import OneHotEncoder\n",
    "import matplotlib.pyplot as plt"
   ]
  },
  {
   "cell_type": "code",
   "execution_count": 17,
   "id": "212ae540",
   "metadata": {},
   "outputs": [],
   "source": [
    "def preprocessing(text):\n",
    "    text2 = \" \".join(\"\".join([\" \" if ch in string.punctuation else ch for ch in text]).split())\n",
    "\n",
    "    tokens = [word for sent in nltk.sent_tokenize(text2) for word in\n",
    "              nltk.word_tokenize(sent)]\n",
    "    \n",
    "    tokens = [word.lower() for word in tokens]\n",
    "    \n",
    "    stopwds = stopwords.words('english')\n",
    "    tokens = [token for token in tokens if token not in stopwds]\n",
    "    \n",
    "    tokens = [word for word in tokens if len(word)>=3]\n",
    "    \n",
    "    stemmer = PorterStemmer()\n",
    "    tokens = [stemmer.stem(word) for word in tokens]\n",
    "\n",
    "    tagged_corpus = pos_tag(tokens)    \n",
    "    \n",
    "    Noun_tags = ['NN','NNP','NNPS','NNS']\n",
    "    Verb_tags = ['VB','VBD','VBG','VBN','VBP','VBZ']\n",
    "\n",
    "    lemmatizer = WordNetLemmatizer()\n",
    "\n",
    "    def prat_lemmatize(token,tag):\n",
    "        if tag in Noun_tags:\n",
    "            return lemmatizer.lemmatize(token,'n')\n",
    "        elif tag in Verb_tags:\n",
    "            return lemmatizer.lemmatize(token,'v')\n",
    "        else:\n",
    "            return lemmatizer.lemmatize(token,'n')\n",
    "    \n",
    "    pre_proc_text =  \" \".join([prat_lemmatize(token,tag) for token,tag in tagged_corpus])             \n",
    "\n",
    "    return pre_proc_text"
   ]
  },
  {
   "cell_type": "code",
   "execution_count": 20,
   "id": "c9dc4a36",
   "metadata": {},
   "outputs": [],
   "source": [
    "fin = open(\"alice_in_wonderland.txt\", \"rb\")\n",
    "lines = []\n",
    "for line in fin:\n",
    "    line = line.strip().decode(\"ascii\", \"ignore\")\n",
    "    if len(line) == 0:\n",
    "        continue\n",
    "    lines.append(preprocessing(line))\n",
    "fin.close()"
   ]
  },
  {
   "cell_type": "code",
   "execution_count": 21,
   "id": "cf7c021c",
   "metadata": {},
   "outputs": [],
   "source": [
    "import collections\n",
    "counter = collections.Counter()\n",
    "for line in lines:\n",
    "    for word in nltk.word_tokenize(line):\n",
    "        counter[word.lower()]+=1\n",
    "word2idx = {w:(i+1) for i,(w,_) in enumerate(counter.most_common())}        \n",
    "idx2word = {v:k for k,v in word2idx.items()}"
   ]
  },
  {
   "cell_type": "code",
   "execution_count": 23,
   "id": "f52c0d48",
   "metadata": {},
   "outputs": [
    {
     "name": "stdout",
     "output_type": "stream",
     "text": [
      "1786\n",
      "1787\n"
     ]
    }
   ],
   "source": [
    "xs = []\n",
    "ys = []\n",
    "for line in lines:\n",
    "    embedding = [word2idx[w.lower()] for w in nltk.word_tokenize(line)] \n",
    "    triples = list(nltk.trigrams(embedding))\n",
    "    w_lefts = [x[0] for x in triples]\n",
    "    w_centers = [x[1] for x in triples]\n",
    "    w_rights = [x[2] for x in triples]\n",
    "    xs.extend(w_centers)\n",
    "    ys.extend(w_lefts)\n",
    "    xs.extend(w_centers)\n",
    "    ys.extend(w_rights)\n",
    "print (len(word2idx))\n",
    "\n",
    "vocab_size = len(word2idx)+1\n",
    "print (vocab_size)"
   ]
  },
  {
   "cell_type": "code",
   "execution_count": 26,
   "id": "67e07858",
   "metadata": {},
   "outputs": [
    {
     "name": "stdout",
     "output_type": "stream",
     "text": [
      "(9707, 1787) (4161, 1787) (9707, 1787) (4161, 1787)\n"
     ]
    }
   ],
   "source": [
    "ohe = OneHotEncoder(categories=[range(vocab_size)])\n",
    "X = ohe.fit_transform(np.array(xs).reshape(-1, 1)).todense()\n",
    "Y = ohe.fit_transform(np.array(ys).reshape(-1, 1)).todense()\n",
    "Xtrain, Xtest, Ytrain, Ytest,xstr,xsts = train_test_split(X, Y,xs, test_size=0.3,\n",
    "                                                random_state=42)\n",
    "print(Xtrain.shape, Xtest.shape, Ytrain.shape, Ytest.shape)"
   ]
  },
  {
   "cell_type": "code",
   "execution_count": 27,
   "id": "09ad3874",
   "metadata": {},
   "outputs": [],
   "source": [
    "from keras.layers import Input,Dense,Dropout\n",
    "from keras.models import Model\n",
    "\n",
    "np.random.seed(42)\n",
    "\n",
    "BATCH_SIZE = 128\n",
    "NUM_EPOCHS = 20\n",
    "\n",
    "\n",
    "input_layer = Input(shape = (Xtrain.shape[1],),name=\"input\")\n",
    "first_layer = Dense(300,activation='relu',name = \"first\")(input_layer)\n",
    "first_dropout = Dropout(0.5,name=\"firstdout\")(first_layer)\n",
    "\n",
    "second_layer = Dense(2,activation='relu',name=\"second\")(first_dropout)\n",
    "\n",
    "third_layer = Dense(300,activation='relu',name=\"third\")(second_layer)\n",
    "third_dropout = Dropout(0.5,name=\"thirdout\")(third_layer)\n",
    "\n",
    "fourth_layer = Dense(Ytrain.shape[1],activation='softmax',name = \"fourth\")(third_dropout)\n",
    "\n",
    "\n",
    "history = Model(input_layer,fourth_layer)\n",
    "history.compile(optimizer = \"rmsprop\",loss=\"categorical_crossentropy\",metrics=[\"accuracy\"])\n",
    "\n"
   ]
  },
  {
   "cell_type": "code",
   "execution_count": 28,
   "id": "ae5e7393",
   "metadata": {},
   "outputs": [
    {
     "name": "stdout",
     "output_type": "stream",
     "text": [
      "Epoch 1/20\n",
      "61/61 [==============================] - 6s 66ms/step - loss: 6.8875 - accuracy: 0.0367 - val_loss: 6.4295 - val_accuracy: 0.0479\n",
      "Epoch 2/20\n",
      "61/61 [==============================] - 3s 44ms/step - loss: 6.3909 - accuracy: 0.0416 - val_loss: 6.4454 - val_accuracy: 0.0479\n",
      "Epoch 3/20\n",
      "61/61 [==============================] - 2s 41ms/step - loss: 6.3496 - accuracy: 0.0435 - val_loss: 6.4762 - val_accuracy: 0.0479\n",
      "Epoch 4/20\n",
      "61/61 [==============================] - 3s 57ms/step - loss: 6.3244 - accuracy: 0.0435 - val_loss: 6.4991 - val_accuracy: 0.0479\n",
      "Epoch 5/20\n",
      "61/61 [==============================] - 3s 48ms/step - loss: 6.3098 - accuracy: 0.0439 - val_loss: 6.5213 - val_accuracy: 0.0479\n",
      "Epoch 6/20\n",
      "61/61 [==============================] - 3s 50ms/step - loss: 6.2914 - accuracy: 0.0438 - val_loss: 6.5506 - val_accuracy: 0.0479\n",
      "Epoch 7/20\n",
      "61/61 [==============================] - 3s 52ms/step - loss: 6.2826 - accuracy: 0.0455 - val_loss: 6.5620 - val_accuracy: 0.0479\n",
      "Epoch 8/20\n",
      "61/61 [==============================] - 3s 52ms/step - loss: 6.2720 - accuracy: 0.0451 - val_loss: 6.5569 - val_accuracy: 0.0561\n",
      "Epoch 9/20\n",
      "61/61 [==============================] - 3s 52ms/step - loss: 6.2625 - accuracy: 0.0513 - val_loss: 6.5702 - val_accuracy: 0.0556\n",
      "Epoch 10/20\n",
      "61/61 [==============================] - 3s 50ms/step - loss: 6.2433 - accuracy: 0.0536 - val_loss: 6.5665 - val_accuracy: 0.0572\n",
      "Epoch 11/20\n",
      "61/61 [==============================] - 3s 54ms/step - loss: 6.2274 - accuracy: 0.0527 - val_loss: 6.5533 - val_accuracy: 0.0577\n",
      "Epoch 12/20\n",
      "61/61 [==============================] - 4s 61ms/step - loss: 6.2128 - accuracy: 0.0540 - val_loss: 6.5592 - val_accuracy: 0.0613\n",
      "Epoch 13/20\n",
      "61/61 [==============================] - 3s 55ms/step - loss: 6.1943 - accuracy: 0.0546 - val_loss: 6.5616 - val_accuracy: 0.0602\n",
      "Epoch 14/20\n",
      "61/61 [==============================] - 3s 44ms/step - loss: 6.1786 - accuracy: 0.0554 - val_loss: 6.5650 - val_accuracy: 0.0618\n",
      "Epoch 15/20\n",
      "61/61 [==============================] - 3s 42ms/step - loss: 6.1585 - accuracy: 0.0571 - val_loss: 6.5583 - val_accuracy: 0.0613\n",
      "Epoch 16/20\n",
      "61/61 [==============================] - 3s 42ms/step - loss: 6.1478 - accuracy: 0.0576 - val_loss: 6.5933 - val_accuracy: 0.0597\n",
      "Epoch 17/20\n",
      "61/61 [==============================] - 3s 43ms/step - loss: 6.1277 - accuracy: 0.0572 - val_loss: 6.6268 - val_accuracy: 0.0592\n",
      "Epoch 18/20\n",
      "61/61 [==============================] - 3s 56ms/step - loss: 6.1225 - accuracy: 0.0565 - val_loss: 6.6138 - val_accuracy: 0.0592\n",
      "Epoch 19/20\n",
      "61/61 [==============================] - 3s 46ms/step - loss: 6.1028 - accuracy: 0.0569 - val_loss: 6.6045 - val_accuracy: 0.0602\n",
      "Epoch 20/20\n",
      "61/61 [==============================] - 3s 42ms/step - loss: 6.0907 - accuracy: 0.0577 - val_loss: 6.5910 - val_accuracy: 0.0582\n"
     ]
    },
    {
     "data": {
      "text/plain": [
       "<keras.callbacks.History at 0x20ca2f5a6d0>"
      ]
     },
     "execution_count": 28,
     "metadata": {},
     "output_type": "execute_result"
    }
   ],
   "source": [
    "history.fit(Xtrain, Ytrain, batch_size=BATCH_SIZE,epochs=NUM_EPOCHS, verbose=1,validation_split = 0.2)"
   ]
  },
  {
   "cell_type": "code",
   "execution_count": 29,
   "id": "f9fa4e15",
   "metadata": {},
   "outputs": [],
   "source": [
    "# 잠재 변수 예측을 위해 모델의 인코더 부분 추출\n",
    "encoder = Model(history.input,history.get_layer(\"second\").output)\n",
    "\n",
    "# 추출된 인코더 모델을 사용하여 잠재 변수 예측\n",
    "reduced_X = encoder.predict(Xtest)\n",
    "\n",
    "final_pdframe = pd.DataFrame(reduced_X)\n",
    "final_pdframe.columns = [\"xaxis\",\"yaxis\"]\n",
    "final_pdframe[\"word_indx\"] = xsts\n",
    "final_pdframe[\"word\"] = final_pdframe[\"word_indx\"].map(idx2word)"
   ]
  },
  {
   "cell_type": "code",
   "execution_count": 33,
   "id": "849c5218",
   "metadata": {},
   "outputs": [],
   "source": [
    "rows = random.sample(list(final_pdframe.index), 100)\n",
    "vis_df = final_pdframe.loc[rows]\n",
    "\n",
    "labels = list(vis_df[\"word\"]);xvals = list(vis_df[\"xaxis\"])\n",
    "xvals = list(vis_df[\"xaxis\"])\n",
    "yvals = list(vis_df[\"yaxis\"])"
   ]
  },
  {
   "cell_type": "code",
   "execution_count": 34,
   "id": "442cc295",
   "metadata": {},
   "outputs": [
    {
     "data": {
      "text/html": [
       "<div>\n",
       "<style scoped>\n",
       "    .dataframe tbody tr th:only-of-type {\n",
       "        vertical-align: middle;\n",
       "    }\n",
       "\n",
       "    .dataframe tbody tr th {\n",
       "        vertical-align: top;\n",
       "    }\n",
       "\n",
       "    .dataframe thead th {\n",
       "        text-align: right;\n",
       "    }\n",
       "</style>\n",
       "<table border=\"1\" class=\"dataframe\">\n",
       "  <thead>\n",
       "    <tr style=\"text-align: right;\">\n",
       "      <th></th>\n",
       "      <th>xaxis</th>\n",
       "      <th>yaxis</th>\n",
       "      <th>word_indx</th>\n",
       "      <th>word</th>\n",
       "    </tr>\n",
       "  </thead>\n",
       "  <tbody>\n",
       "    <tr>\n",
       "      <th>0</th>\n",
       "      <td>0.542978</td>\n",
       "      <td>0.639891</td>\n",
       "      <td>38</td>\n",
       "      <td>must</td>\n",
       "    </tr>\n",
       "    <tr>\n",
       "      <th>1</th>\n",
       "      <td>0.522444</td>\n",
       "      <td>0.403245</td>\n",
       "      <td>246</td>\n",
       "      <td>box</td>\n",
       "    </tr>\n",
       "    <tr>\n",
       "      <th>2</th>\n",
       "      <td>0.508595</td>\n",
       "      <td>0.784915</td>\n",
       "      <td>168</td>\n",
       "      <td>notic</td>\n",
       "    </tr>\n",
       "    <tr>\n",
       "      <th>3</th>\n",
       "      <td>0.632613</td>\n",
       "      <td>0.264281</td>\n",
       "      <td>7</td>\n",
       "      <td>look</td>\n",
       "    </tr>\n",
       "    <tr>\n",
       "      <th>4</th>\n",
       "      <td>0.408097</td>\n",
       "      <td>0.126267</td>\n",
       "      <td>248</td>\n",
       "      <td>play</td>\n",
       "    </tr>\n",
       "    <tr>\n",
       "      <th>...</th>\n",
       "      <td>...</td>\n",
       "      <td>...</td>\n",
       "      <td>...</td>\n",
       "      <td>...</td>\n",
       "    </tr>\n",
       "    <tr>\n",
       "      <th>4156</th>\n",
       "      <td>0.553191</td>\n",
       "      <td>0.555901</td>\n",
       "      <td>14</td>\n",
       "      <td>see</td>\n",
       "    </tr>\n",
       "    <tr>\n",
       "      <th>4157</th>\n",
       "      <td>0.000000</td>\n",
       "      <td>0.857007</td>\n",
       "      <td>2</td>\n",
       "      <td>alic</td>\n",
       "    </tr>\n",
       "    <tr>\n",
       "      <th>4158</th>\n",
       "      <td>0.518926</td>\n",
       "      <td>0.567051</td>\n",
       "      <td>183</td>\n",
       "      <td>mouth</td>\n",
       "    </tr>\n",
       "    <tr>\n",
       "      <th>4159</th>\n",
       "      <td>0.404699</td>\n",
       "      <td>0.025251</td>\n",
       "      <td>17</td>\n",
       "      <td>time</td>\n",
       "    </tr>\n",
       "    <tr>\n",
       "      <th>4160</th>\n",
       "      <td>0.465292</td>\n",
       "      <td>0.525123</td>\n",
       "      <td>53</td>\n",
       "      <td>use</td>\n",
       "    </tr>\n",
       "  </tbody>\n",
       "</table>\n",
       "<p>4161 rows × 4 columns</p>\n",
       "</div>"
      ],
      "text/plain": [
       "         xaxis     yaxis  word_indx   word\n",
       "0     0.542978  0.639891         38   must\n",
       "1     0.522444  0.403245        246    box\n",
       "2     0.508595  0.784915        168  notic\n",
       "3     0.632613  0.264281          7   look\n",
       "4     0.408097  0.126267        248   play\n",
       "...        ...       ...        ...    ...\n",
       "4156  0.553191  0.555901         14    see\n",
       "4157  0.000000  0.857007          2   alic\n",
       "4158  0.518926  0.567051        183  mouth\n",
       "4159  0.404699  0.025251         17   time\n",
       "4160  0.465292  0.525123         53    use\n",
       "\n",
       "[4161 rows x 4 columns]"
      ]
     },
     "execution_count": 34,
     "metadata": {},
     "output_type": "execute_result"
    }
   ],
   "source": [
    "final_pdframe"
   ]
  },
  {
   "cell_type": "code",
   "execution_count": 35,
   "id": "c17cee7d",
   "metadata": {},
   "outputs": [
    {
     "data": {
      "image/png": "[encoded data removed]",
      "text/plain": [
       "<Figure size 720x720 with 1 Axes>"
      ]
     },
     "metadata": {
      "needs_background": "light"
     },
     "output_type": "display_data"
    }
   ],
   "source": [
    "plt.figure(figsize=(10, 10))  \n",
    "\n",
    "for i, label in enumerate(labels):\n",
    "    x = xvals[i]\n",
    "    y = yvals[i]\n",
    "    plt.scatter(x, y)\n",
    "    plt.annotate(label,xy=(x, y),xytext=(5, 2),textcoords='offset points',\n",
    "                 ha='right',va='bottom')\n",
    "\n",
    "plt.xlabel(\"Dimension 1\")\n",
    "plt.ylabel(\"Dimension 2\")\n",
    "plt.show()"
   ]
  },
  {
   "cell_type": "code",
   "execution_count": null,
   "id": "e3ea31d8",
   "metadata": {},
   "outputs": [],
   "source": []
  }
 ],
 "metadata": {
  "kernelspec": {
   "display_name": "Python 3",
   "language": "python",
   "name": "python3"
  },
  "language_info": {
   "codemirror_mode": {
    "name": "ipython",
    "version": 3
   },
   "file_extension": ".py",
   "mimetype": "text/x-python",
   "name": "python",
   "nbconvert_exporter": "python",
   "pygments_lexer": "ipython3",
   "version": "3.8.8"
  }
 },
 "nbformat": 4,
 "nbformat_minor": 5
}
