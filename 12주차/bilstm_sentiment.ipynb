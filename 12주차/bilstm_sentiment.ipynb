{
 "cells": [
  {
   "cell_type": "code",
   "execution_count": 1,
   "id": "49a5a116",
   "metadata": {},
   "outputs": [],
   "source": [
    "#양뱡향 LSTM을 이용한 IMDB 감정 분류\n",
    "from __future__ import print_function\n",
    "import numpy as np\n",
    "import pandas as pd\n",
    "\n",
    "from keras.preprocessing import sequence\n",
    "from keras.models import Sequential\n",
    "from keras.layers import Dense, Dropout, Embedding, LSTM, Bidirectional\n",
    "from keras.datasets import imdb\n",
    "\n",
    "from sklearn.metrics import accuracy_score,classification_report"
   ]
  },
  {
   "cell_type": "code",
   "execution_count": 2,
   "id": "aff4c8e7",
   "metadata": {},
   "outputs": [],
   "source": [
    "# 최대 피처 제한\n",
    "max_features = 15000\n",
    "max_len = 300\n",
    "batch_size = 64"
   ]
  },
  {
   "cell_type": "code",
   "execution_count": 3,
   "id": "68f85ff3",
   "metadata": {},
   "outputs": [
    {
     "name": "stdout",
     "output_type": "stream",
     "text": [
      "25000 train observations\n",
      "25000 test observations\n"
     ]
    }
   ],
   "source": [
    "# 데이터 로딩\n",
    "(x_train, y_train), (x_test, y_test) = imdb.load_data(num_words=max_features)\n",
    "print(len(x_train), 'train observations')\n",
    "print(len(x_test), 'test observations')"
   ]
  },
  {
   "cell_type": "code",
   "execution_count": 4,
   "id": "f69e6882",
   "metadata": {},
   "outputs": [
    {
     "name": "stdout",
     "output_type": "stream",
     "text": [
      "x_train shape: (25000, 300)\n",
      "x_test shape: (25000, 300)\n"
     ]
    }
   ],
   "source": [
    "# 효율적인 연산을 위한 패드 배열\n",
    "x_train_2 = sequence.pad_sequences(x_train, maxlen=max_len)\n",
    "x_test_2 = sequence.pad_sequences(x_test, maxlen=max_len)\n",
    "print('x_train shape:', x_train_2.shape)\n",
    "print('x_test shape:', x_test_2.shape)\n",
    "y_train = np.array(y_train)\n",
    "y_test = np.array(y_test)"
   ]
  },
  {
   "cell_type": "code",
   "execution_count": 5,
   "id": "bcb2de44",
   "metadata": {},
   "outputs": [
    {
     "name": "stdout",
     "output_type": "stream",
     "text": [
      "Model: \"sequential\"\n",
      "_________________________________________________________________\n",
      "Layer (type)                 Output Shape              Param #   \n",
      "=================================================================\n",
      "embedding (Embedding)        (None, 300, 128)          1920000   \n",
      "_________________________________________________________________\n",
      "bidirectional (Bidirectional (None, 128)               98816     \n",
      "_________________________________________________________________\n",
      "dropout (Dropout)            (None, 128)               0         \n",
      "_________________________________________________________________\n",
      "dense (Dense)                (None, 1)                 129       \n",
      "=================================================================\n",
      "Total params: 2,018,945\n",
      "Trainable params: 2,018,945\n",
      "Non-trainable params: 0\n",
      "_________________________________________________________________\n",
      "None\n"
     ]
    }
   ],
   "source": [
    "# 모델 구축\n",
    "model = Sequential()\n",
    "model.add(Embedding(max_features, 128, input_length=max_len))\n",
    "model.add(Bidirectional(LSTM(64)))\n",
    "model.add(Dropout(0.5))\n",
    "model.add(Dense(1, activation='sigmoid'))\n",
    "\n",
    "model.compile('adam', 'binary_crossentropy', metrics=['accuracy'])\n",
    "\n",
    "# 모델 아키텍처 출력\n",
    "print (model.summary())"
   ]
  },
  {
   "cell_type": "code",
   "execution_count": 7,
   "id": "aa3f6888",
   "metadata": {
    "scrolled": true
   },
   "outputs": [
    {
     "name": "stdout",
     "output_type": "stream",
     "text": [
      "\n",
      "\n",
      "LSTM Bidirectional Sentiment Classification  - Train accuracy: 0.497\n",
      "\n",
      "LSTM Bidirectional Sentiment Classification of Training data\n",
      "               precision    recall  f1-score   support\n",
      "\n",
      "           0       0.49      0.17      0.25     12500\n",
      "           1       0.50      0.82      0.62     12500\n",
      "\n",
      "    accuracy                           0.50     25000\n",
      "   macro avg       0.50      0.50      0.44     25000\n",
      "weighted avg       0.50      0.50      0.44     25000\n",
      "\n",
      "\n",
      "LSTM Bidirectional Sentiment Classification - Train Confusion Matrix\n",
      "\n",
      " Predicted     0      1\n",
      "Actuall               \n",
      "0          2150  10350\n",
      "1          2219  10281\n",
      "\n",
      "LSTM Bidirectional Sentiment Classification  - Test accuracy: 0.509\n",
      "\n",
      "LSTM Bidirectional Sentiment Classification of Test data\n",
      "               precision    recall  f1-score   support\n",
      "\n",
      "           0       0.53      0.18      0.27     12500\n",
      "           1       0.51      0.84      0.63     12500\n",
      "\n",
      "    accuracy                           0.51     25000\n",
      "   macro avg       0.52      0.51      0.45     25000\n",
      "weighted avg       0.52      0.51      0.45     25000\n",
      "\n",
      "\n",
      "LSTM Bidirectional Sentiment Classification - Test Confusion Matrix\n",
      "\n",
      " Predicted     0      1\n",
      "Actuall               \n",
      "0          2252  10248\n",
      "1          2034  10466\n"
     ]
    }
   ],
   "source": [
    "# 모델 예측\n",
    "y_train_predclass = np.round(model.predict(x_train_2)).astype(int)\n",
    "y_test_predclass = np.round(model.predict(x_test_2)).astype(int)\n",
    "\n",
    "y_train_predclass.shape = y_train.shape\n",
    "y_test_predclass.shape = y_test.shape\n",
    "\n",
    "\n",
    "# 모델 정확도 및 메트릭 계산\n",
    "print ((\"\\n\\nLSTM Bidirectional Sentiment Classification  - Train accuracy:\"),(round(accuracy_score(y_train,y_train_predclass),3)))\n",
    "print (\"\\nLSTM Bidirectional Sentiment Classification of Training data\\n\",classification_report(y_train, y_train_predclass))\n",
    "print (\"\\nLSTM Bidirectional Sentiment Classification - Train Confusion Matrix\\n\\n\",pd.crosstab(y_train, y_train_predclass,rownames = [\"Actuall\"],colnames = [\"Predicted\"]))      \n",
    "\n",
    "print ((\"\\nLSTM Bidirectional Sentiment Classification  - Test accuracy:\"),(round(accuracy_score(y_test,y_test_predclass),3)))\n",
    "print (\"\\nLSTM Bidirectional Sentiment Classification of Test data\\n\",classification_report(y_test, y_test_predclass))\n",
    "print (\"\\nLSTM Bidirectional Sentiment Classification - Test Confusion Matrix\\n\\n\",pd.crosstab(y_test, y_test_predclass,rownames = [\"Actuall\"],colnames = [\"Predicted\"]))   "
   ]
  },
  {
   "cell_type": "code",
   "execution_count": null,
   "id": "eda15ac4",
   "metadata": {},
   "outputs": [],
   "source": []
  }
 ],
 "metadata": {
  "kernelspec": {
   "display_name": "Python 3",
   "language": "python",
   "name": "python3"
  },
  "language_info": {
   "codemirror_mode": {
    "name": "ipython",
    "version": 3
   },
   "file_extension": ".py",
   "mimetype": "text/x-python",
   "name": "python",
   "nbconvert_exporter": "python",
   "pygments_lexer": "ipython3",
   "version": "3.8.8"
  }
 },
 "nbformat": 4,
 "nbformat_minor": 5
}
