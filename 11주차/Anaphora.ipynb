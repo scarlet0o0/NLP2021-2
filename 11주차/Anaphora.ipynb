{
 "cells": [
  {
   "cell_type": "code",
   "execution_count": 6,
   "id": "0de0098f",
   "metadata": {},
   "outputs": [],
   "source": [
    "#대용어 해결\n",
    "import nltk\n",
    "from nltk.chunk import tree2conlltags\n",
    "from nltk.corpus import names\n",
    "import random\n",
    "#nltk.download('names')"
   ]
  },
  {
   "cell_type": "code",
   "execution_count": 7,
   "id": "818747d6",
   "metadata": {},
   "outputs": [],
   "source": [
    "class AnaphoraExample:\n",
    "    def __init__(self):\n",
    "        #Male.txt ---> 남성 이름 말뭉치\n",
    "        males = [(name, 'male') for name in names.words('male.txt')]\n",
    "        #female.txt ---> 여성 이름 말뭉치\n",
    "        females = [(name, 'female') for name in names.words('female.txt')]\n",
    "        combined = males + females\n",
    "        random.shuffle(combined)\n",
    "        training = [(self.feature(name), gender) for (name, gender) in combined]\n",
    "        self._classifier = nltk.NaiveBayesClassifier.train(training)\n",
    "\n",
    "    def feature(self, word):\n",
    "        return {'last(1)' : word[-1]}#name의 마지막 글자 추출\n",
    "\n",
    "    #주어진 이름을 남자 또는 여자로 분류하는 가장 간단한 기능을 정의\n",
    "    def gender(self, word):\n",
    "        return self._classifier.classify(self.feature(word))\n",
    "\n",
    "    def learnAnaphora(self):\n",
    "        #샘플 문자에서 대용어를 탐지\n",
    "        sentences = [\n",
    "            \"John is a man. He walks\",\n",
    "            \"John and Mary are married. They have two kids\",\n",
    "            \"In order for Ravi to be successful, he should follow John\",\n",
    "            \"John met Mary in Barista. She asked him to order a Pizza\"\n",
    "        ]\n",
    "\n",
    "        for sent in sentences:\n",
    "            #각 문장 chunkng\n",
    "            chunks = nltk.ne_chunk(nltk.pos_tag(nltk.word_tokenize(sent)), binary=False)\n",
    "            stack = []\n",
    "            print(sent)\n",
    "            #청크 트리를 IOB형식으로 표현된 리스트로 배치\n",
    "            items = tree2conlltags(chunks)\n",
    "            for item in items:\n",
    "                if item[1] == 'NNP' and (item[2] == 'B-PERSON' or item[2] == 'O'):\n",
    "                    stack.append((item[0], self.gender(item[0])))\n",
    "                elif item[1] == 'CC':\n",
    "                    stack.append(item[0])\n",
    "                elif item[1] == 'PRP':\n",
    "                    stack.append(item[0])\n",
    "            print(\"\\t {}\".format(stack))"
   ]
  },
  {
   "cell_type": "code",
   "execution_count": 8,
   "id": "494833ec",
   "metadata": {},
   "outputs": [
    {
     "name": "stdout",
     "output_type": "stream",
     "text": [
      "John is a man. He walks\n",
      "\t [('John', 'male'), 'He']\n",
      "John and Mary are married. They have two kids\n",
      "\t [('John', 'male'), 'and', ('Mary', 'female'), 'They']\n",
      "In order for Ravi to be successful, he should follow John\n",
      "\t [('Ravi', 'female'), 'he', ('John', 'male')]\n",
      "John met Mary in Barista. She asked him to order a Pizza\n",
      "\t [('John', 'male'), ('Mary', 'female'), 'She', 'him']\n"
     ]
    }
   ],
   "source": [
    "anaphora = AnaphoraExample()\n",
    "anaphora.learnAnaphora()"
   ]
  },
  {
   "cell_type": "code",
   "execution_count": null,
   "id": "5a207e24",
   "metadata": {},
   "outputs": [],
   "source": []
  }
 ],
 "metadata": {
  "kernelspec": {
   "display_name": "Python 3",
   "language": "python",
   "name": "python3"
  },
  "language_info": {
   "codemirror_mode": {
    "name": "ipython",
    "version": 3
   },
   "file_extension": ".py",
   "mimetype": "text/x-python",
   "name": "python",
   "nbconvert_exporter": "python",
   "pygments_lexer": "ipython3",
   "version": "3.8.8"
  }
 },
 "nbformat": 4,
 "nbformat_minor": 5
}
