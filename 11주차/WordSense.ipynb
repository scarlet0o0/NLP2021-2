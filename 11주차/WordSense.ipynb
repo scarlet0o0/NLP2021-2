{
 "cells": [
  {
   "cell_type": "code",
   "execution_count": 1,
   "id": "7b484c77",
   "metadata": {},
   "outputs": [],
   "source": [
    "#단어의 의미 명확화\n",
    "import nltk"
   ]
  },
  {
   "cell_type": "code",
   "execution_count": 2,
   "id": "416989ef",
   "metadata": {},
   "outputs": [],
   "source": [
    "#단어의 가용한 의미들을 보여주기 위한 함수\n",
    "def understandWordSenseExamples():\n",
    "    words = ['wind', 'date', 'left']\n",
    "    print(\"-- examples --\")\n",
    "    for word in words:\n",
    "        #wordnet 모듈에서 동의어 집합인 synsets()호출\n",
    "        syns = nltk.corpus.wordnet.synsets(word)\n",
    "        for syn in syns[:2]:\n",
    "            for example in syn.examples()[:2]:\n",
    "                print(\"{} -> {} -> {}\".format(word, syn.name(), example))"
   ]
  },
  {
   "cell_type": "code",
   "execution_count": 3,
   "id": "1266dbae",
   "metadata": {},
   "outputs": [],
   "source": [
    "def understandBuiltinWSD():\n",
    "    print(\"-- built-in wsd --\")\n",
    "    maps = [ #분석할 문장, 의미를 찾고자 하는 단어, 단어의 품사\n",
    "        ('Is it the fish net that you are using to catch fish ?', 'fish', 'n'),\n",
    "        ('Please dont point your finger at others.', 'point', 'n'),\n",
    "        ('I went to the river bank to see the sun rise', 'bank', 'n'),\n",
    "    ]\n",
    "    # WSD : 단어 의미 중의성 해소 --> 특정 문장에 등장하는 단어들이 어떤의미인지 판별하는 작업\n",
    "    for m in maps:\n",
    "        print(\"Sense '{}' for '{}' -> '{}'\".format(m[0], m[1], nltk.wsd.lesk(m[0], m[1], m[2])))"
   ]
  },
  {
   "cell_type": "code",
   "execution_count": 4,
   "id": "a10f9b0f",
   "metadata": {},
   "outputs": [
    {
     "name": "stdout",
     "output_type": "stream",
     "text": [
      "-- examples --\n",
      "wind -> wind.n.01 -> trees bent under the fierce winds\n",
      "wind -> wind.n.01 -> when there is no wind, row\n",
      "wind -> wind.n.02 -> the winds of change\n",
      "date -> date.n.01 -> what is the date today?\n",
      "date -> date.n.02 -> his date never stopped talking\n",
      "left -> left.n.01 -> she stood on the left\n",
      "-- built-in wsd --\n",
      "Sense 'Is it the fish net that you are using to catch fish ?' for 'fish' -> 'Synset('pisces.n.02')'\n",
      "Sense 'Please dont point your finger at others.' for 'point' -> 'Synset('point.n.25')'\n",
      "Sense 'I went to the river bank to see the sun rise' for 'bank' -> 'Synset('savings_bank.n.02')'\n"
     ]
    }
   ],
   "source": [
    "if __name__ == '__main__':\n",
    "    understandWordSenseExamples()\n",
    "    print(\"\")\n",
    "    understandBuiltinWSD()"
   ]
  },
  {
   "cell_type": "code",
   "execution_count": null,
   "id": "92d78d14",
   "metadata": {},
   "outputs": [],
   "source": []
  }
 ],
 "metadata": {
  "kernelspec": {
   "display_name": "Python 3",
   "language": "python",
   "name": "python3"
  },
  "language_info": {
   "codemirror_mode": {
    "name": "ipython",
    "version": 3
   },
   "file_extension": ".py",
   "mimetype": "text/x-python",
   "name": "python",
   "nbconvert_exporter": "python",
   "pygments_lexer": "ipython3",
   "version": "3.8.8"
  }
 },
 "nbformat": 4,
 "nbformat_minor": 5
}
