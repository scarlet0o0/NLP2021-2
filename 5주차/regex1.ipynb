{
 "cells": [
  {
   "cell_type": "code",
   "execution_count": 1,
   "id": "eac53c39",
   "metadata": {},
   "outputs": [],
   "source": [
    "import re"
   ]
  },
  {
   "cell_type": "code",
   "execution_count": 7,
   "id": "14d9bfdd",
   "metadata": {},
   "outputs": [],
   "source": [
    "def text_match(text,patterns):\n",
    "    if re.search(patterns, text):\n",
    "        return(\"일치하는 항목을 찾았습니다.\")\n",
    "    else:\n",
    "        return('일치하지 않음.')"
   ]
  },
  {
   "cell_type": "code",
   "execution_count": 8,
   "id": "ee00a696",
   "metadata": {},
   "outputs": [
    {
     "name": "stdout",
     "output_type": "stream",
     "text": [
      "일치하는 항목을 찾았습니다.\n",
      "일치하는 항목을 찾았습니다.\n",
      "일치하는 항목을 찾았습니다.\n"
     ]
    }
   ],
   "source": [
    "print(text_match(\"ac\", \"ab?\"))\n",
    "print(text_match(\"abc\", \"ab?\"))\n",
    "print(text_match(\"abbc\", \"ab?\"))\n"
   ]
  },
  {
   "cell_type": "code",
   "execution_count": 11,
   "id": "2685d703",
   "metadata": {},
   "outputs": [
    {
     "name": "stdout",
     "output_type": "stream",
     "text": [
      "일치하는 항목을 찾았습니다.\n",
      "일치하는 항목을 찾았습니다.\n",
      "일치하는 항목을 찾았습니다.\n"
     ]
    }
   ],
   "source": [
    "print(text_match(\"ac\", \"ab*\"))\n",
    "print(text_match(\"abc\", \"ab*\"))\n",
    "print(text_match(\"abbc\", \"ab*\"))"
   ]
  },
  {
   "cell_type": "code",
   "execution_count": 12,
   "id": "7255dbc5",
   "metadata": {},
   "outputs": [
    {
     "name": "stdout",
     "output_type": "stream",
     "text": [
      "일치하지 않음.\n",
      "일치하는 항목을 찾았습니다.\n",
      "일치하는 항목을 찾았습니다.\n"
     ]
    }
   ],
   "source": [
    "print(text_match(\"ac\", \"ab+\"))\n",
    "print(text_match(\"abc\", \"ab+\"))\n",
    "print(text_match(\"abbc\", \"ab+\"))"
   ]
  },
  {
   "cell_type": "code",
   "execution_count": 13,
   "id": "522c0a8c",
   "metadata": {},
   "outputs": [
    {
     "name": "stdout",
     "output_type": "stream",
     "text": [
      "일치하는 항목을 찾았습니다.\n"
     ]
    }
   ],
   "source": [
    "print(text_match(\"abbc\", \"ab{2}\"))"
   ]
  },
  {
   "cell_type": "code",
   "execution_count": 14,
   "id": "c7408fb9",
   "metadata": {},
   "outputs": [
    {
     "name": "stdout",
     "output_type": "stream",
     "text": [
      "일치하는 항목을 찾았습니다.\n"
     ]
    }
   ],
   "source": [
    "print(text_match(\"aabbbbc\", \"ab{3,5}?\"))"
   ]
  },
  {
   "cell_type": "code",
   "execution_count": null,
   "id": "204f64e5",
   "metadata": {},
   "outputs": [],
   "source": []
  }
 ],
 "metadata": {
  "kernelspec": {
   "display_name": "Python 3",
   "language": "python",
   "name": "python3"
  },
  "language_info": {
   "codemirror_mode": {
    "name": "ipython",
    "version": 3
   },
   "file_extension": ".py",
   "mimetype": "text/x-python",
   "name": "python",
   "nbconvert_exporter": "python",
   "pygments_lexer": "ipython3",
   "version": "3.8.8"
  }
 },
 "nbformat": 4,
 "nbformat_minor": 5
}
