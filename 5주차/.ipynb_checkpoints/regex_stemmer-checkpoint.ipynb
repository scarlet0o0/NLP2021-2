{
 "cells": [
  {
   "cell_type": "code",
   "execution_count": 1,
   "id": "ab784dad",
   "metadata": {},
   "outputs": [],
   "source": [
    "import re"
   ]
  },
  {
   "cell_type": "code",
   "execution_count": 3,
   "id": "07141865",
   "metadata": {},
   "outputs": [],
   "source": [
    "def stem(word):\n",
    "    splits = re.findall(r'^(.*?)(ing|ly|ed|ious|ive|es|s|ment)?$',word)\n",
    "    stem = splits[0][0]\n",
    "    return stem"
   ]
  },
  {
   "cell_type": "code",
   "execution_count": 4,
   "id": "77a66f3c",
   "metadata": {},
   "outputs": [
    {
     "name": "stdout",
     "output_type": "stream",
     "text": [
      "['Keep', 'your', 'friends', 'clost', ', ', 'but', 'your', 'enemies', 'closer', '.']\n"
     ]
    }
   ],
   "source": [
    "raw = \"Keep your friends clost, but your enemies closer.\"\n",
    "tokens = re.findall(r'\\w+|\\S\\W*',raw)\n",
    "print(tokens)"
   ]
  },
  {
   "cell_type": "code",
   "execution_count": 7,
   "id": "46308d8a",
   "metadata": {},
   "outputs": [
    {
     "name": "stdout",
     "output_type": "stream",
     "text": [
      "'Keep'\n",
      "'your'\n",
      "'friend'\n",
      "'clost'\n",
      "', '\n",
      "'but'\n",
      "'your'\n",
      "'enemi'\n",
      "'closer'\n",
      "'.'\n"
     ]
    }
   ],
   "source": [
    "for t in tokens:\n",
    "    print(\"'\"+stem(t)+\"'\")"
   ]
  },
  {
   "cell_type": "code",
   "execution_count": null,
   "id": "c99ac93a",
   "metadata": {},
   "outputs": [],
   "source": []
  }
 ],
 "metadata": {
  "kernelspec": {
   "display_name": "Python 3",
   "language": "python",
   "name": "python3"
  },
  "language_info": {
   "codemirror_mode": {
    "name": "ipython",
    "version": 3
   },
   "file_extension": ".py",
   "mimetype": "text/x-python",
   "name": "python",
   "nbconvert_exporter": "python",
   "pygments_lexer": "ipython3",
   "version": "3.8.8"
  }
 },
 "nbformat": 4,
 "nbformat_minor": 5
}
