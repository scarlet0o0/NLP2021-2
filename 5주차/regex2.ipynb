{
 "cells": [
  {
   "cell_type": "code",
   "execution_count": 2,
   "id": "8a3b6179",
   "metadata": {},
   "outputs": [],
   "source": [
    "import re"
   ]
  },
  {
   "cell_type": "code",
   "execution_count": 3,
   "id": "4e47ee66",
   "metadata": {},
   "outputs": [],
   "source": [
    "def text_match(text,patterns):\n",
    "    if re.search(patterns, text):\n",
    "        return(\"일치하는 항목을 찾았습니다!\")\n",
    "    else:\n",
    "        return('일치하지 않음!')"
   ]
  },
  {
   "cell_type": "code",
   "execution_count": 4,
   "id": "84a26a3d",
   "metadata": {},
   "outputs": [
    {
     "name": "stdout",
     "output_type": "stream",
     "text": [
      "테스트 패턴은 다음으로 시작하고 끝남\n",
      "일치하지 않음!\n"
     ]
    }
   ],
   "source": [
    "print(\"테스트 패턴은 다음으로 시작하고 끝남\")\n",
    "print(text_match(\"ac\", \"^a.*c$\"))"
   ]
  },
  {
   "cell_type": "code",
   "execution_count": 8,
   "id": "565f5650",
   "metadata": {},
   "outputs": [
    {
     "name": "stdout",
     "output_type": "stream",
     "text": [
      "단어로 시작함\n",
      "일치하는 항목을 찾았습니다!\n"
     ]
    }
   ],
   "source": [
    "print(\"단어로 시작함\")\n",
    "print(text_match(\"Tuffy eats pie, Loki eats peas!\",\"^\\w+\"))"
   ]
  },
  {
   "cell_type": "code",
   "execution_count": 16,
   "id": "faf87ce8",
   "metadata": {},
   "outputs": [
    {
     "name": "stdout",
     "output_type": "stream",
     "text": [
      "단어와 선택적 문장부호로 끝남\n",
      "일치하는 항목을 찾았습니다!\n"
     ]
    }
   ],
   "source": [
    "print(\"단어와 선택적 문장부호로 끝남\")\n",
    "print(text_match(\"Tuffy eats pie, Loki eats peas!\",\"\\w+\\S*?$\"))"
   ]
  },
  {
   "cell_type": "code",
   "execution_count": 11,
   "id": "1a9d4e9b",
   "metadata": {},
   "outputs": [
    {
     "name": "stdout",
     "output_type": "stream",
     "text": [
      "단어의 시작이나 끝이 아닌 문자가 포함된 단어 찾기\n",
      "일치하는 항목을 찾았습니다!\n"
     ]
    }
   ],
   "source": [
    "print(\"단어의 시작이나 끝이 아닌 문자가 포함된 단어 찾기\")\n",
    "print(text_match(\"Tuffy eats pie, Loki eats peas!\", \"\\Bu\\B\"))"
   ]
  },
  {
   "cell_type": "code",
   "execution_count": null,
   "id": "69c83cf8",
   "metadata": {},
   "outputs": [],
   "source": []
  }
 ],
 "metadata": {
  "kernelspec": {
   "display_name": "Python 3",
   "language": "python",
   "name": "python3"
  },
  "language_info": {
   "codemirror_mode": {
    "name": "ipython",
    "version": 3
   },
   "file_extension": ".py",
   "mimetype": "text/x-python",
   "name": "python",
   "nbconvert_exporter": "python",
   "pygments_lexer": "ipython3",
   "version": "3.8.8"
  }
 },
 "nbformat": 4,
 "nbformat_minor": 5
}
