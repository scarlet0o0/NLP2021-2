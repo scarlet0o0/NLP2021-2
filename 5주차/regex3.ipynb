{
 "cells": [
  {
   "cell_type": "code",
   "execution_count": 1,
   "id": "3d1bd2f4",
   "metadata": {},
   "outputs": [],
   "source": [
    "import re"
   ]
  },
  {
   "cell_type": "code",
   "execution_count": 2,
   "id": "8dafc7a0",
   "metadata": {},
   "outputs": [],
   "source": [
    "patterns = ['Tuffy','Pie','Loki']\n",
    "text = 'Tuffy eats pie, Loki eats peas'"
   ]
  },
  {
   "cell_type": "code",
   "execution_count": 4,
   "id": "a75b56d5",
   "metadata": {},
   "outputs": [
    {
     "name": "stdout",
     "output_type": "stream",
     "text": [
      "\"Tuffy eats pie, Loki eats peas\"에서 \"Tuffy\" 검색 중 ->\n",
      "찾았습니다!\n",
      "\"Tuffy eats pie, Loki eats peas\"에서 \"Pie\" 검색 중 ->\n",
      "찾을 수 없습니다!\n",
      "\"Tuffy eats pie, Loki eats peas\"에서 \"Loki\" 검색 중 ->\n",
      "찾았습니다!\n"
     ]
    }
   ],
   "source": [
    "for pattern in patterns:\n",
    "    print('\"%s\"에서 \"%s\" 검색 중 ->' %(text,pattern),)\n",
    "    if re.search(pattern, text):\n",
    "        print('찾았습니다!')\n",
    "    else:\n",
    "        print('찾을 수 없습니다!')"
   ]
  },
  {
   "cell_type": "code",
   "execution_count": 5,
   "id": "298cb6e7",
   "metadata": {},
   "outputs": [],
   "source": [
    "text = 'Diwali is a festival of lights, Holi is a festival of colors!'\n",
    "pattern = 'festival'"
   ]
  },
  {
   "cell_type": "code",
   "execution_count": 7,
   "id": "d74998ba",
   "metadata": {},
   "outputs": [
    {
     "name": "stdout",
     "output_type": "stream",
     "text": [
      "12:20에서 \"festival\"을(를)찾았습니다.\n",
      "42:50에서 \"festival\"을(를)찾았습니다.\n"
     ]
    }
   ],
   "source": [
    "for match in re.finditer(pattern, text):\n",
    "    s = match.start()\n",
    "    e = match.end()\n",
    "    print('%d:%d에서 \"%s\"을(를)찾았습니다.'%(s, e, text[s:e]))"
   ]
  },
  {
   "cell_type": "code",
   "execution_count": null,
   "id": "1b1303a4",
   "metadata": {},
   "outputs": [],
   "source": []
  }
 ],
 "metadata": {
  "kernelspec": {
   "display_name": "Python 3",
   "language": "python",
   "name": "python3"
  },
  "language_info": {
   "codemirror_mode": {
    "name": "ipython",
    "version": 3
   },
   "file_extension": ".py",
   "mimetype": "text/x-python",
   "name": "python",
   "nbconvert_exporter": "python",
   "pygments_lexer": "ipython3",
   "version": "3.8.8"
  }
 },
 "nbformat": 4,
 "nbformat_minor": 5
}
